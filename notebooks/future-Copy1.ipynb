{
 "cells": [
  {
   "cell_type": "code",
   "execution_count": 1,
   "id": "ae71c6be-3e6f-4d52-b738-11adb5851494",
   "metadata": {
    "tags": []
   },
   "outputs": [
    {
     "name": "stdout",
     "output_type": "stream",
     "text": [
      "Requirement already satisfied: Flask in /opt/app-root/lib/python3.9/site-packages (from -r ./requirements.txt (line 1)) (3.0.2)\n",
      "Requirement already satisfied: gunicorn in /opt/app-root/lib/python3.9/site-packages (from -r ./requirements.txt (line 2)) (21.2.0)\n",
      "Requirement already satisfied: trino in /opt/app-root/lib/python3.9/site-packages (from -r ./requirements.txt (line 3)) (0.328.0)\n",
      "Requirement already satisfied: numpy in /opt/app-root/lib/python3.9/site-packages (from -r ./requirements.txt (line 4)) (1.24.4)\n",
      "Requirement already satisfied: pandas in /opt/app-root/lib/python3.9/site-packages (from -r ./requirements.txt (line 5)) (1.5.3)\n",
      "Requirement already satisfied: matplotlib in /opt/app-root/lib/python3.9/site-packages (from -r ./requirements.txt (line 6)) (3.6.3)\n",
      "Requirement already satisfied: scikit-learn in /opt/app-root/lib/python3.9/site-packages (from -r ./requirements.txt (line 7)) (1.3.2)\n",
      "Requirement already satisfied: tensorflow==2.15.0 in /opt/app-root/lib/python3.9/site-packages (from -r ./requirements.txt (line 8)) (2.15.0)\n",
      "Requirement already satisfied: boto3 in /opt/app-root/lib/python3.9/site-packages (from -r ./requirements.txt (line 9)) (1.28.85)\n",
      "Requirement already satisfied: tf2onnx in /opt/app-root/lib/python3.9/site-packages (from -r ./requirements.txt (line 10)) (1.16.1)\n",
      "Requirement already satisfied: onnx in /opt/app-root/lib/python3.9/site-packages (from -r ./requirements.txt (line 11)) (1.15.0)\n",
      "Requirement already satisfied: pandas_datareader==0.10.0 in /opt/app-root/lib/python3.9/site-packages (from -r ./requirements.txt (line 12)) (0.10.0)\n",
      "Requirement already satisfied: yfinance in /opt/app-root/lib/python3.9/site-packages (from -r ./requirements.txt (line 13)) (0.2.37)\n",
      "Requirement already satisfied: minio in /opt/app-root/lib/python3.9/site-packages (from -r ./requirements.txt (line 14)) (7.2.4)\n",
      "Requirement already satisfied: gast!=0.5.0,!=0.5.1,!=0.5.2,>=0.2.1 in /opt/app-root/lib/python3.9/site-packages (from tensorflow==2.15.0->-r ./requirements.txt (line 8)) (0.5.4)\n",
      "Requirement already satisfied: ml-dtypes~=0.2.0 in /opt/app-root/lib/python3.9/site-packages (from tensorflow==2.15.0->-r ./requirements.txt (line 8)) (0.2.0)\n",
      "Requirement already satisfied: packaging in /opt/app-root/lib/python3.9/site-packages (from tensorflow==2.15.0->-r ./requirements.txt (line 8)) (23.2)\n",
      "Requirement already satisfied: six>=1.12.0 in /opt/app-root/lib/python3.9/site-packages (from tensorflow==2.15.0->-r ./requirements.txt (line 8)) (1.16.0)\n",
      "Requirement already satisfied: termcolor>=1.1.0 in /opt/app-root/lib/python3.9/site-packages (from tensorflow==2.15.0->-r ./requirements.txt (line 8)) (2.4.0)\n",
      "Requirement already satisfied: protobuf!=4.21.0,!=4.21.1,!=4.21.2,!=4.21.3,!=4.21.4,!=4.21.5,<5.0.0dev,>=3.20.3 in /opt/app-root/lib/python3.9/site-packages (from tensorflow==2.15.0->-r ./requirements.txt (line 8)) (3.20.3)\n",
      "Requirement already satisfied: tensorflow-estimator<2.16,>=2.15.0 in /opt/app-root/lib/python3.9/site-packages (from tensorflow==2.15.0->-r ./requirements.txt (line 8)) (2.15.0)\n",
      "Requirement already satisfied: astunparse>=1.6.0 in /opt/app-root/lib/python3.9/site-packages (from tensorflow==2.15.0->-r ./requirements.txt (line 8)) (1.6.3)\n",
      "Requirement already satisfied: tensorboard<2.16,>=2.15 in /opt/app-root/lib/python3.9/site-packages (from tensorflow==2.15.0->-r ./requirements.txt (line 8)) (2.15.2)\n",
      "Requirement already satisfied: grpcio<2.0,>=1.24.3 in /opt/app-root/lib/python3.9/site-packages (from tensorflow==2.15.0->-r ./requirements.txt (line 8)) (1.62.0)\n",
      "Requirement already satisfied: typing-extensions>=3.6.6 in /opt/app-root/lib/python3.9/site-packages (from tensorflow==2.15.0->-r ./requirements.txt (line 8)) (4.10.0)\n",
      "Requirement already satisfied: h5py>=2.9.0 in /opt/app-root/lib/python3.9/site-packages (from tensorflow==2.15.0->-r ./requirements.txt (line 8)) (3.10.0)\n",
      "Requirement already satisfied: flatbuffers>=23.5.26 in /opt/app-root/lib/python3.9/site-packages (from tensorflow==2.15.0->-r ./requirements.txt (line 8)) (24.3.7)\n",
      "Requirement already satisfied: google-pasta>=0.1.1 in /opt/app-root/lib/python3.9/site-packages (from tensorflow==2.15.0->-r ./requirements.txt (line 8)) (0.2.0)\n",
      "Requirement already satisfied: keras<2.16,>=2.15.0 in /opt/app-root/lib/python3.9/site-packages (from tensorflow==2.15.0->-r ./requirements.txt (line 8)) (2.15.0)\n",
      "Requirement already satisfied: libclang>=13.0.0 in /opt/app-root/lib/python3.9/site-packages (from tensorflow==2.15.0->-r ./requirements.txt (line 8)) (18.1.1)\n",
      "Requirement already satisfied: absl-py>=1.0.0 in /opt/app-root/lib/python3.9/site-packages (from tensorflow==2.15.0->-r ./requirements.txt (line 8)) (1.4.0)\n",
      "Requirement already satisfied: tensorflow-io-gcs-filesystem>=0.23.1 in /opt/app-root/lib/python3.9/site-packages (from tensorflow==2.15.0->-r ./requirements.txt (line 8)) (0.36.0)\n",
      "Requirement already satisfied: opt-einsum>=2.3.2 in /opt/app-root/lib/python3.9/site-packages (from tensorflow==2.15.0->-r ./requirements.txt (line 8)) (3.3.0)\n",
      "Requirement already satisfied: setuptools in /opt/app-root/lib/python3.9/site-packages (from tensorflow==2.15.0->-r ./requirements.txt (line 8)) (68.1.2)\n",
      "Requirement already satisfied: wrapt<1.15,>=1.11.0 in /opt/app-root/lib/python3.9/site-packages (from tensorflow==2.15.0->-r ./requirements.txt (line 8)) (1.14.1)\n",
      "Requirement already satisfied: lxml in /opt/app-root/lib/python3.9/site-packages (from pandas_datareader==0.10.0->-r ./requirements.txt (line 12)) (5.1.0)\n",
      "Requirement already satisfied: requests>=2.19.0 in /opt/app-root/lib/python3.9/site-packages (from pandas_datareader==0.10.0->-r ./requirements.txt (line 12)) (2.31.0)\n",
      "Requirement already satisfied: itsdangerous>=2.1.2 in /opt/app-root/lib/python3.9/site-packages (from Flask->-r ./requirements.txt (line 1)) (2.1.2)\n",
      "Requirement already satisfied: importlib-metadata>=3.6.0 in /opt/app-root/lib/python3.9/site-packages (from Flask->-r ./requirements.txt (line 1)) (7.0.1)\n",
      "Requirement already satisfied: blinker>=1.6.2 in /opt/app-root/lib/python3.9/site-packages (from Flask->-r ./requirements.txt (line 1)) (1.7.0)\n",
      "Requirement already satisfied: Jinja2>=3.1.2 in /opt/app-root/lib/python3.9/site-packages (from Flask->-r ./requirements.txt (line 1)) (3.1.3)\n",
      "Requirement already satisfied: click>=8.1.3 in /opt/app-root/lib/python3.9/site-packages (from Flask->-r ./requirements.txt (line 1)) (8.1.7)\n",
      "Requirement already satisfied: Werkzeug>=3.0.0 in /opt/app-root/lib/python3.9/site-packages (from Flask->-r ./requirements.txt (line 1)) (3.0.1)\n",
      "Requirement already satisfied: tzlocal in /opt/app-root/lib/python3.9/site-packages (from trino->-r ./requirements.txt (line 3)) (5.2)\n",
      "Requirement already satisfied: pytz in /opt/app-root/lib/python3.9/site-packages (from trino->-r ./requirements.txt (line 3)) (2024.1)\n",
      "Requirement already satisfied: python-dateutil in /opt/app-root/lib/python3.9/site-packages (from trino->-r ./requirements.txt (line 3)) (2.9.0)\n",
      "Requirement already satisfied: pillow>=6.2.0 in /opt/app-root/lib/python3.9/site-packages (from matplotlib->-r ./requirements.txt (line 6)) (10.2.0)\n",
      "Requirement already satisfied: cycler>=0.10 in /opt/app-root/lib/python3.9/site-packages (from matplotlib->-r ./requirements.txt (line 6)) (0.12.1)\n",
      "Requirement already satisfied: pyparsing>=2.2.1 in /opt/app-root/lib/python3.9/site-packages (from matplotlib->-r ./requirements.txt (line 6)) (3.1.1)\n",
      "Requirement already satisfied: kiwisolver>=1.0.1 in /opt/app-root/lib/python3.9/site-packages (from matplotlib->-r ./requirements.txt (line 6)) (1.4.5)\n",
      "Requirement already satisfied: fonttools>=4.22.0 in /opt/app-root/lib/python3.9/site-packages (from matplotlib->-r ./requirements.txt (line 6)) (4.49.0)\n",
      "Requirement already satisfied: contourpy>=1.0.1 in /opt/app-root/lib/python3.9/site-packages (from matplotlib->-r ./requirements.txt (line 6)) (1.2.0)\n",
      "Requirement already satisfied: scipy>=1.5.0 in /opt/app-root/lib/python3.9/site-packages (from scikit-learn->-r ./requirements.txt (line 7)) (1.11.4)\n",
      "Requirement already satisfied: threadpoolctl>=2.0.0 in /opt/app-root/lib/python3.9/site-packages (from scikit-learn->-r ./requirements.txt (line 7)) (3.3.0)\n",
      "Requirement already satisfied: joblib>=1.1.1 in /opt/app-root/lib/python3.9/site-packages (from scikit-learn->-r ./requirements.txt (line 7)) (1.3.2)\n",
      "Requirement already satisfied: jmespath<2.0.0,>=0.7.1 in /opt/app-root/lib/python3.9/site-packages (from boto3->-r ./requirements.txt (line 9)) (1.0.1)\n",
      "Requirement already satisfied: s3transfer<0.8.0,>=0.7.0 in /opt/app-root/lib/python3.9/site-packages (from boto3->-r ./requirements.txt (line 9)) (0.7.0)\n",
      "Requirement already satisfied: botocore<1.32.0,>=1.31.85 in /opt/app-root/lib/python3.9/site-packages (from boto3->-r ./requirements.txt (line 9)) (1.31.85)\n",
      "Requirement already satisfied: peewee>=3.16.2 in /opt/app-root/lib/python3.9/site-packages (from yfinance->-r ./requirements.txt (line 13)) (3.17.1)\n",
      "Requirement already satisfied: multitasking>=0.0.7 in /opt/app-root/lib/python3.9/site-packages (from yfinance->-r ./requirements.txt (line 13)) (0.0.11)\n",
      "Requirement already satisfied: frozendict>=2.3.4 in /opt/app-root/lib/python3.9/site-packages (from yfinance->-r ./requirements.txt (line 13)) (2.4.0)\n",
      "Requirement already satisfied: appdirs>=1.4.4 in /opt/app-root/lib/python3.9/site-packages (from yfinance->-r ./requirements.txt (line 13)) (1.4.4)\n",
      "Requirement already satisfied: beautifulsoup4>=4.11.1 in /opt/app-root/lib/python3.9/site-packages (from yfinance->-r ./requirements.txt (line 13)) (4.12.3)\n",
      "Requirement already satisfied: html5lib>=1.1 in /opt/app-root/lib/python3.9/site-packages (from yfinance->-r ./requirements.txt (line 13)) (1.1)\n",
      "Requirement already satisfied: certifi in /opt/app-root/lib/python3.9/site-packages (from minio->-r ./requirements.txt (line 14)) (2024.2.2)\n",
      "Requirement already satisfied: argon2-cffi in /opt/app-root/lib/python3.9/site-packages (from minio->-r ./requirements.txt (line 14)) (23.1.0)\n",
      "Requirement already satisfied: pycryptodome in /opt/app-root/lib/python3.9/site-packages (from minio->-r ./requirements.txt (line 14)) (3.20.0)\n",
      "Requirement already satisfied: urllib3 in /opt/app-root/lib/python3.9/site-packages (from minio->-r ./requirements.txt (line 14)) (1.26.18)\n",
      "Requirement already satisfied: wheel<1.0,>=0.23.0 in /opt/app-root/lib/python3.9/site-packages (from astunparse>=1.6.0->tensorflow==2.15.0->-r ./requirements.txt (line 8)) (0.41.3)\n",
      "Requirement already satisfied: soupsieve>1.2 in /opt/app-root/lib/python3.9/site-packages (from beautifulsoup4>=4.11.1->yfinance->-r ./requirements.txt (line 13)) (2.5)\n",
      "Requirement already satisfied: webencodings in /opt/app-root/lib/python3.9/site-packages (from html5lib>=1.1->yfinance->-r ./requirements.txt (line 13)) (0.5.1)\n",
      "Requirement already satisfied: zipp>=0.5 in /opt/app-root/lib/python3.9/site-packages (from importlib-metadata>=3.6.0->Flask->-r ./requirements.txt (line 1)) (3.17.0)\n",
      "Requirement already satisfied: MarkupSafe>=2.0 in /opt/app-root/lib/python3.9/site-packages (from Jinja2>=3.1.2->Flask->-r ./requirements.txt (line 1)) (2.1.5)\n",
      "Requirement already satisfied: charset-normalizer<4,>=2 in /opt/app-root/lib/python3.9/site-packages (from requests>=2.19.0->pandas_datareader==0.10.0->-r ./requirements.txt (line 12)) (3.3.2)\n",
      "Requirement already satisfied: idna<4,>=2.5 in /opt/app-root/lib/python3.9/site-packages (from requests>=2.19.0->pandas_datareader==0.10.0->-r ./requirements.txt (line 12)) (3.6)\n",
      "Requirement already satisfied: markdown>=2.6.8 in /opt/app-root/lib/python3.9/site-packages (from tensorboard<2.16,>=2.15->tensorflow==2.15.0->-r ./requirements.txt (line 8)) (3.6)\n",
      "Requirement already satisfied: tensorboard-data-server<0.8.0,>=0.7.0 in /opt/app-root/lib/python3.9/site-packages (from tensorboard<2.16,>=2.15->tensorflow==2.15.0->-r ./requirements.txt (line 8)) (0.7.2)\n",
      "Requirement already satisfied: google-auth<3,>=1.6.3 in /opt/app-root/lib/python3.9/site-packages (from tensorboard<2.16,>=2.15->tensorflow==2.15.0->-r ./requirements.txt (line 8)) (2.28.1)\n",
      "Requirement already satisfied: google-auth-oauthlib<2,>=0.5 in /opt/app-root/lib/python3.9/site-packages (from tensorboard<2.16,>=2.15->tensorflow==2.15.0->-r ./requirements.txt (line 8)) (1.2.0)\n",
      "Requirement already satisfied: argon2-cffi-bindings in /opt/app-root/lib/python3.9/site-packages (from argon2-cffi->minio->-r ./requirements.txt (line 14)) (21.2.0)\n",
      "Requirement already satisfied: cachetools<6.0,>=2.0.0 in /opt/app-root/lib/python3.9/site-packages (from google-auth<3,>=1.6.3->tensorboard<2.16,>=2.15->tensorflow==2.15.0->-r ./requirements.txt (line 8)) (5.3.3)\n",
      "Requirement already satisfied: pyasn1-modules>=0.2.1 in /opt/app-root/lib/python3.9/site-packages (from google-auth<3,>=1.6.3->tensorboard<2.16,>=2.15->tensorflow==2.15.0->-r ./requirements.txt (line 8)) (0.3.0)\n",
      "Requirement already satisfied: rsa<5,>=3.1.4 in /opt/app-root/lib/python3.9/site-packages (from google-auth<3,>=1.6.3->tensorboard<2.16,>=2.15->tensorflow==2.15.0->-r ./requirements.txt (line 8)) (4.9)\n",
      "Requirement already satisfied: requests-oauthlib>=0.7.0 in /opt/app-root/lib/python3.9/site-packages (from google-auth-oauthlib<2,>=0.5->tensorboard<2.16,>=2.15->tensorflow==2.15.0->-r ./requirements.txt (line 8)) (1.3.1)\n",
      "Requirement already satisfied: cffi>=1.0.1 in /opt/app-root/lib/python3.9/site-packages (from argon2-cffi-bindings->argon2-cffi->minio->-r ./requirements.txt (line 14)) (1.16.0)\n",
      "Requirement already satisfied: pycparser in /opt/app-root/lib/python3.9/site-packages (from cffi>=1.0.1->argon2-cffi-bindings->argon2-cffi->minio->-r ./requirements.txt (line 14)) (2.21)\n",
      "Requirement already satisfied: pyasn1<0.6.0,>=0.4.6 in /opt/app-root/lib/python3.9/site-packages (from pyasn1-modules>=0.2.1->google-auth<3,>=1.6.3->tensorboard<2.16,>=2.15->tensorflow==2.15.0->-r ./requirements.txt (line 8)) (0.5.1)\n",
      "Requirement already satisfied: oauthlib>=3.0.0 in /opt/app-root/lib/python3.9/site-packages (from requests-oauthlib>=0.7.0->google-auth-oauthlib<2,>=0.5->tensorboard<2.16,>=2.15->tensorflow==2.15.0->-r ./requirements.txt (line 8)) (3.2.2)\n",
      "\n",
      "\u001b[1m[\u001b[0m\u001b[34;49mnotice\u001b[0m\u001b[1;39;49m]\u001b[0m\u001b[39;49m A new release of pip available: \u001b[0m\u001b[31;49m22.2.2\u001b[0m\u001b[39;49m -> \u001b[0m\u001b[32;49m24.0\u001b[0m\n",
      "\u001b[1m[\u001b[0m\u001b[34;49mnotice\u001b[0m\u001b[1;39;49m]\u001b[0m\u001b[39;49m To update, run: \u001b[0m\u001b[32;49mpip install --upgrade pip\u001b[0m\n"
     ]
    }
   ],
   "source": [
    "import sys\n",
    "!{sys.executable} -m pip install -r ./requirements.txt"
   ]
  },
  {
   "cell_type": "code",
   "execution_count": 2,
   "id": "6bba03a1-1678-45c9-aa32-28c6a63f9bc1",
   "metadata": {
    "tags": []
   },
   "outputs": [
    {
     "name": "stderr",
     "output_type": "stream",
     "text": [
      "2024-03-20 10:14:53.054950: I external/local_tsl/tsl/cuda/cudart_stub.cc:31] Could not find cuda drivers on your machine, GPU will not be used.\n",
      "2024-03-20 10:14:53.084599: E external/local_xla/xla/stream_executor/cuda/cuda_dnn.cc:9261] Unable to register cuDNN factory: Attempting to register factory for plugin cuDNN when one has already been registered\n",
      "2024-03-20 10:14:53.084645: E external/local_xla/xla/stream_executor/cuda/cuda_fft.cc:607] Unable to register cuFFT factory: Attempting to register factory for plugin cuFFT when one has already been registered\n",
      "2024-03-20 10:14:53.085738: E external/local_xla/xla/stream_executor/cuda/cuda_blas.cc:1515] Unable to register cuBLAS factory: Attempting to register factory for plugin cuBLAS when one has already been registered\n",
      "2024-03-20 10:14:53.090974: I external/local_tsl/tsl/cuda/cudart_stub.cc:31] Could not find cuda drivers on your machine, GPU will not be used.\n",
      "2024-03-20 10:14:53.092005: I tensorflow/core/platform/cpu_feature_guard.cc:182] This TensorFlow binary is optimized to use available CPU instructions in performance-critical operations.\n",
      "To enable the following instructions: AVX2 FMA, in other operations, rebuild TensorFlow with the appropriate compiler flags.\n",
      "2024-03-20 10:14:53.928829: W tensorflow/compiler/tf2tensorrt/utils/py_utils.cc:38] TF-TRT Warning: Could not find TensorRT\n"
     ]
    }
   ],
   "source": [
    "import boto3\n",
    "import matplotlib.pyplot as plt\n",
    "import pandas as pd\n",
    "from pandas_datareader import data as pdr\n",
    "import numpy as np\n",
    "from sklearn.preprocessing import MinMaxScaler\n",
    "from tensorflow import keras\n",
    "import tf2onnx\n",
    "import onnx\n",
    "import yfinance as yfin\n",
    "import time\n",
    "from keras.models import Sequential\n",
    "from keras.layers import Dense, LSTM, Dropout\n",
    "from minio import Minio\n",
    "import os"
   ]
  },
  {
   "cell_type": "code",
   "execution_count": null,
   "id": "8d65bce9-dd46-4df9-bf5f-0a6e6fda9a8c",
   "metadata": {},
   "outputs": [],
   "source": [
    "ticker = os.environ.get('TICKER')"
   ]
  },
  {
   "cell_type": "code",
   "execution_count": 3,
   "id": "6c98db3a-f0cd-44d7-ab56-e1470e65ffe9",
   "metadata": {
    "tags": []
   },
   "outputs": [
    {
     "name": "stderr",
     "output_type": "stream",
     "text": [
      "[*********************100%%**********************]  1 of 1 completed\n"
     ]
    }
   ],
   "source": [
    "df = yfin.download(tickers=['AAPL'], period='6mo')\n",
    "dataset = df['Close'].fillna(method='ffill')\n",
    "dataset = dataset.values.reshape(-1, 1)"
   ]
  },
  {
   "cell_type": "code",
   "execution_count": 4,
   "id": "36bb0ef6-fc92-44fc-9a18-b73a73220a19",
   "metadata": {
    "tags": []
   },
   "outputs": [
    {
     "data": {
      "text/plain": [
       "(125, 1)"
      ]
     },
     "execution_count": 4,
     "metadata": {},
     "output_type": "execute_result"
    }
   ],
   "source": [
    "dataset.shape"
   ]
  },
  {
   "cell_type": "code",
   "execution_count": 5,
   "id": "532b3b60-c96f-445c-ad1d-8251689d446a",
   "metadata": {
    "tags": []
   },
   "outputs": [],
   "source": [
    "scaler = MinMaxScaler(feature_range=(0, 1))\n",
    "scaler = scaler.fit(dataset)\n",
    "dataset = scaler.transform(dataset)"
   ]
  },
  {
   "cell_type": "code",
   "execution_count": 6,
   "id": "b6cec4d2-0325-49e4-834a-006a9fdfb682",
   "metadata": {},
   "outputs": [],
   "source": [
    "# generate the input and output sequences\n",
    "n_lookback = 60  # length of input sequences (lookback period)\n",
    "n_forecast = 30  # length of output sequences (forecast period)\n",
    "\n",
    "X = []\n",
    "Y = []\n",
    "\n",
    "for i in range(n_lookback, len(dataset) - n_forecast + 1):\n",
    "    X.append(dataset[i - n_lookback: i])\n",
    "    Y.append(dataset[i: i + n_forecast])"
   ]
  },
  {
   "cell_type": "code",
   "execution_count": 7,
   "id": "b07cf8c4-635f-40f0-9fab-c1c99c4f2607",
   "metadata": {},
   "outputs": [],
   "source": [
    "X = np.array(X)\n",
    "Y = np.array(Y)\n"
   ]
  },
  {
   "cell_type": "code",
   "execution_count": 8,
   "id": "af10773a-a5a5-4655-8ce1-56b18ddae8d4",
   "metadata": {
    "tags": []
   },
   "outputs": [],
   "source": [
    "# fit the model\n",
    "model = Sequential(name=\"forecast\")\n",
    "model.add(LSTM(units=50, return_sequences=True, input_shape=(n_lookback, 1)))\n",
    "model.add(LSTM(units=50))\n",
    "model.add(Dense(n_forecast))"
   ]
  },
  {
   "cell_type": "code",
   "execution_count": 9,
   "id": "02c298c9-207b-4d03-9975-04bebd4ff587",
   "metadata": {
    "tags": []
   },
   "outputs": [
    {
     "data": {
      "text/plain": [
       "<keras.src.callbacks.History at 0x7fbd9c0559d0>"
      ]
     },
     "execution_count": 9,
     "metadata": {},
     "output_type": "execute_result"
    }
   ],
   "source": [
    "\n",
    "model.compile(loss='mean_squared_error', optimizer='adam')\n",
    "model.fit(X, Y, epochs=100, batch_size=32, verbose=0)"
   ]
  },
  {
   "cell_type": "code",
   "execution_count": 10,
   "id": "d097b6cf-cf93-4668-b490-c8efe53e5a8c",
   "metadata": {
    "tags": []
   },
   "outputs": [
    {
     "name": "stdout",
     "output_type": "stream",
     "text": [
      "1/1 [==============================] - 0s 446ms/step\n"
     ]
    }
   ],
   "source": [
    "# generate the forecasts\n",
    "X_ = dataset[- n_lookback:]  # last available input sequence\n",
    "X_ = X_.reshape(1, n_lookback, 1)\n",
    "\n",
    "Y_ = model.predict(X_).reshape(-1, 1)\n",
    "Y_ = scaler.inverse_transform(Y_)"
   ]
  },
  {
   "cell_type": "code",
   "execution_count": 11,
   "id": "fd5bf01f-1b37-4777-b153-a3ab6400de5b",
   "metadata": {
    "tags": []
   },
   "outputs": [
    {
     "name": "stderr",
     "output_type": "stream",
     "text": [
      "/tmp/ipykernel_9171/3704570742.py:6: SettingWithCopyWarning: \n",
      "A value is trying to be set on a copy of a slice from a DataFrame\n",
      "\n",
      "See the caveats in the documentation: https://pandas.pydata.org/pandas-docs/stable/user_guide/indexing.html#returning-a-view-versus-a-copy\n",
      "  df_past['Forecast'].iloc[-1] = df_past['Actual'].iloc[-1]\n"
     ]
    }
   ],
   "source": [
    "# organize the results in a data frame\n",
    "df_past = df[['Close']].reset_index()\n",
    "df_past.rename(columns={'index': 'Date', 'Close': 'Actual'}, inplace=True)\n",
    "df_past['Date'] = pd.to_datetime(df_past['Date'])\n",
    "df_past['Forecast'] = np.nan\n",
    "df_past['Forecast'].iloc[-1] = df_past['Actual'].iloc[-1]"
   ]
  },
  {
   "cell_type": "code",
   "execution_count": 12,
   "id": "ade67596-303b-4062-8da4-769b2c344439",
   "metadata": {
    "tags": []
   },
   "outputs": [],
   "source": [
    "\n",
    "df_future = pd.DataFrame(columns=['Date', 'Actual', 'Forecast'])\n",
    "df_future['Date'] = pd.date_range(start=df_past['Date'].iloc[-1] + pd.Timedelta(days=1), periods=n_forecast)\n",
    "df_future['Forecast'] = Y_.flatten()\n",
    "df_future['Actual'] = np.nan"
   ]
  },
  {
   "cell_type": "code",
   "execution_count": 13,
   "id": "b0ef9eca-a3ed-45cd-9809-882ab560dc65",
   "metadata": {
    "tags": []
   },
   "outputs": [
    {
     "data": {
      "text/plain": [
       "<AxesSubplot: title={'center': 'IBM'}, xlabel='Date'>"
      ]
     },
     "execution_count": 13,
     "metadata": {},
     "output_type": "execute_result"
    },
    {
     "data": {
      "image/png": "[encoded data removed]",
      "text/plain": [
       "<Figure size 640x480 with 1 Axes>"
      ]
     },
     "metadata": {},
     "output_type": "display_data"
    }
   ],
   "source": [
    "results = pd.concat([df_past, df_future])\n",
    "results = results.set_index('Date')\n",
    "\n",
    "# plot the results\n",
    "results.plot(title='IBM')\n"
   ]
  },
  {
   "cell_type": "code",
   "execution_count": 14,
   "id": "fc6a9fdb-9f1f-4292-b74a-1b5d098dd3ef",
   "metadata": {
    "tags": []
   },
   "outputs": [],
   "source": [
    "import os\n",
    "model.save(\"./forecast.keras\")"
   ]
  },
  {
   "cell_type": "code",
   "execution_count": 15,
   "id": "6a718045-daad-41ec-809f-92dbed92e563",
   "metadata": {
    "tags": []
   },
   "outputs": [
    {
     "name": "stderr",
     "output_type": "stream",
     "text": [
      "2024-03-20 09:44:16.858017: I tensorflow/core/grappler/devices.cc:66] Number of eligible GPUs (core count >= 8, compute capability >= 0.0): 0\n",
      "2024-03-20 09:44:16.858135: I tensorflow/core/grappler/clusters/single_machine.cc:361] Starting new session\n",
      "2024-03-20 09:44:16.958988: I tensorflow/core/grappler/devices.cc:66] Number of eligible GPUs (core count >= 8, compute capability >= 0.0): 0\n",
      "2024-03-20 09:44:16.959103: I tensorflow/core/grappler/clusters/single_machine.cc:361] Starting new session\n",
      "2024-03-20 09:44:17.038688: I tensorflow/compiler/mlir/mlir_graph_optimization_pass.cc:388] MLIR V1 optimization pass is not enabled\n"
     ]
    }
   ],
   "source": [
    "onnx_model, _ = tf2onnx.convert.from_keras(model)\n",
    "onnx.save(onnx_model, \"./forecast.onnx\")"
   ]
  },
  {
   "cell_type": "code",
   "execution_count": 7,
   "id": "27d7e09f-2273-42b1-adee-33352d1a52d2",
   "metadata": {
    "tags": []
   },
   "outputs": [],
   "source": [
    "client = Minio(\n",
    "    \"minio.stock-predict.svc.cluster.local:9000\",\n",
    "    access_key=\"minioadmin\",\n",
    "    secret_key=\"minioadmin\",\n",
    "    secure=False\n",
    ")\n"
   ]
  },
  {
   "cell_type": "code",
   "execution_count": 8,
   "id": "4aae7ba2-9775-467a-b2ce-e4939ef9e4ff",
   "metadata": {
    "tags": []
   },
   "outputs": [
    {
     "name": "stdout",
     "output_type": "stream",
     "text": [
      "data 2024-03-19 10:32:37.003000+00:00\n",
      "models 2024-03-19 10:32:36.981000+00:00\n",
      "pipeline-artifacts 2024-03-19 10:32:36.975000+00:00\n"
     ]
    }
   ],
   "source": [
    "buckets = client.list_buckets()\n",
    "for bucket in buckets:\n",
    "    print(bucket.name, bucket.creation_date)"
   ]
  },
  {
   "cell_type": "code",
   "execution_count": null,
   "id": "3127b054-770d-4dbd-be22-affb0a3265c6",
   "metadata": {},
   "outputs": [],
   "source": [
    "bucket_name = \"models\"\n",
    "source_file = \"./forecast.onnx\"\n",
    "destination_file = \"forecast.onnx\"\n",
    "client.fput_object(bucket_name, destination_file, source_file)"
   ]
  }
 ],
 "metadata": {
  "kernelspec": {
   "display_name": "Python 3.9",
   "language": "python",
   "name": "python3"
  },
  "language_info": {
   "codemirror_mode": {
    "name": "ipython",
    "version": 3
   },
   "file_extension": ".py",
   "mimetype": "text/x-python",
   "name": "python",
   "nbconvert_exporter": "python",
   "pygments_lexer": "ipython3",
   "version": "3.9.16"
  }
 },
 "nbformat": 4,
 "nbformat_minor": 5
}
