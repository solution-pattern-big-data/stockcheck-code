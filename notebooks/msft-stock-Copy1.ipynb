{
 "cells": [
  {
   "cell_type": "code",
   "execution_count": 29,
   "id": "ae71c6be-3e6f-4d52-b738-11adb5851494",
   "metadata": {
    "tags": []
   },
   "outputs": [
    {
     "name": "stdout",
     "output_type": "stream",
     "text": [
      "Requirement already satisfied: Flask in /opt/app-root/lib/python3.9/site-packages (from -r ../requirements.txt (line 1)) (3.0.2)\n",
      "Requirement already satisfied: gunicorn in /opt/app-root/lib/python3.9/site-packages (from -r ../requirements.txt (line 2)) (21.2.0)\n",
      "Requirement already satisfied: trino in /opt/app-root/lib/python3.9/site-packages (from -r ../requirements.txt (line 3)) (0.327.0)\n",
      "Requirement already satisfied: numpy in /opt/app-root/lib/python3.9/site-packages (from -r ../requirements.txt (line 4)) (1.26.4)\n",
      "Requirement already satisfied: pandas in /opt/app-root/lib/python3.9/site-packages (from -r ../requirements.txt (line 5)) (2.2.0)\n",
      "Requirement already satisfied: matplotlib in /opt/app-root/lib/python3.9/site-packages (from -r ../requirements.txt (line 6)) (3.8.2)\n",
      "Requirement already satisfied: scikit-learn in /opt/app-root/lib/python3.9/site-packages (from -r ../requirements.txt (line 7)) (1.4.0)\n",
      "Requirement already satisfied: tensorflow in /opt/app-root/lib/python3.9/site-packages (from -r ../requirements.txt (line 8)) (2.15.0.post1)\n",
      "Requirement already satisfied: boto3 in /opt/app-root/lib/python3.9/site-packages (from -r ../requirements.txt (line 9)) (1.34.39)\n",
      "Requirement already satisfied: tf2onnx in /opt/app-root/lib/python3.9/site-packages (from -r ../requirements.txt (line 10)) (1.16.1)\n",
      "Requirement already satisfied: onnx in /opt/app-root/lib/python3.9/site-packages (from -r ../requirements.txt (line 11)) (1.15.0)\n",
      "Requirement already satisfied: pandas_datareader==0.10.0 in /opt/app-root/lib/python3.9/site-packages (from -r ../requirements.txt (line 12)) (0.10.0)\n",
      "Requirement already satisfied: yfinance in /opt/app-root/lib/python3.9/site-packages (from -r ../requirements.txt (line 13)) (0.2.36)\n",
      "Requirement already satisfied: lxml in /opt/app-root/lib/python3.9/site-packages (from pandas_datareader==0.10.0->-r ../requirements.txt (line 12)) (5.1.0)\n",
      "Requirement already satisfied: requests>=2.19.0 in /opt/app-root/lib/python3.9/site-packages (from pandas_datareader==0.10.0->-r ../requirements.txt (line 12)) (2.31.0)\n",
      "Requirement already satisfied: blinker>=1.6.2 in /opt/app-root/lib/python3.9/site-packages (from Flask->-r ../requirements.txt (line 1)) (1.7.0)\n",
      "Requirement already satisfied: importlib-metadata>=3.6.0 in /opt/app-root/lib/python3.9/site-packages (from Flask->-r ../requirements.txt (line 1)) (7.0.1)\n",
      "Requirement already satisfied: itsdangerous>=2.1.2 in /opt/app-root/lib/python3.9/site-packages (from Flask->-r ../requirements.txt (line 1)) (2.1.2)\n",
      "Requirement already satisfied: Jinja2>=3.1.2 in /opt/app-root/lib/python3.9/site-packages (from Flask->-r ../requirements.txt (line 1)) (3.1.3)\n",
      "Requirement already satisfied: Werkzeug>=3.0.0 in /opt/app-root/lib/python3.9/site-packages (from Flask->-r ../requirements.txt (line 1)) (3.0.1)\n",
      "Requirement already satisfied: click>=8.1.3 in /opt/app-root/lib/python3.9/site-packages (from Flask->-r ../requirements.txt (line 1)) (8.1.7)\n",
      "Requirement already satisfied: packaging in /opt/app-root/lib/python3.9/site-packages (from gunicorn->-r ../requirements.txt (line 2)) (23.2)\n",
      "Requirement already satisfied: tzlocal in /opt/app-root/lib/python3.9/site-packages (from trino->-r ../requirements.txt (line 3)) (5.2)\n",
      "Requirement already satisfied: pytz in /opt/app-root/lib/python3.9/site-packages (from trino->-r ../requirements.txt (line 3)) (2024.1)\n",
      "Requirement already satisfied: python-dateutil in /opt/app-root/lib/python3.9/site-packages (from trino->-r ../requirements.txt (line 3)) (2.8.2)\n",
      "Requirement already satisfied: tzdata>=2022.7 in /opt/app-root/lib/python3.9/site-packages (from pandas->-r ../requirements.txt (line 5)) (2024.1)\n",
      "Requirement already satisfied: cycler>=0.10 in /opt/app-root/lib/python3.9/site-packages (from matplotlib->-r ../requirements.txt (line 6)) (0.12.1)\n",
      "Requirement already satisfied: kiwisolver>=1.3.1 in /opt/app-root/lib/python3.9/site-packages (from matplotlib->-r ../requirements.txt (line 6)) (1.4.5)\n",
      "Requirement already satisfied: pyparsing>=2.3.1 in /opt/app-root/lib/python3.9/site-packages (from matplotlib->-r ../requirements.txt (line 6)) (3.1.1)\n",
      "Requirement already satisfied: fonttools>=4.22.0 in /opt/app-root/lib/python3.9/site-packages (from matplotlib->-r ../requirements.txt (line 6)) (4.48.1)\n",
      "Requirement already satisfied: importlib-resources>=3.2.0 in /opt/app-root/lib/python3.9/site-packages (from matplotlib->-r ../requirements.txt (line 6)) (6.1.1)\n",
      "Requirement already satisfied: contourpy>=1.0.1 in /opt/app-root/lib/python3.9/site-packages (from matplotlib->-r ../requirements.txt (line 6)) (1.2.0)\n",
      "Requirement already satisfied: pillow>=8 in /opt/app-root/lib/python3.9/site-packages (from matplotlib->-r ../requirements.txt (line 6)) (10.2.0)\n",
      "Requirement already satisfied: threadpoolctl>=2.0.0 in /opt/app-root/lib/python3.9/site-packages (from scikit-learn->-r ../requirements.txt (line 7)) (3.2.0)\n",
      "Requirement already satisfied: scipy>=1.6.0 in /opt/app-root/lib/python3.9/site-packages (from scikit-learn->-r ../requirements.txt (line 7)) (1.12.0)\n",
      "Requirement already satisfied: joblib>=1.2.0 in /opt/app-root/lib/python3.9/site-packages (from scikit-learn->-r ../requirements.txt (line 7)) (1.3.2)\n",
      "Requirement already satisfied: absl-py>=1.0.0 in /opt/app-root/lib/python3.9/site-packages (from tensorflow->-r ../requirements.txt (line 8)) (2.1.0)\n",
      "Requirement already satisfied: keras<2.16,>=2.15.0 in /opt/app-root/lib/python3.9/site-packages (from tensorflow->-r ../requirements.txt (line 8)) (2.15.0)\n",
      "Requirement already satisfied: six>=1.12.0 in /opt/app-root/lib/python3.9/site-packages (from tensorflow->-r ../requirements.txt (line 8)) (1.16.0)\n",
      "Requirement already satisfied: gast!=0.5.0,!=0.5.1,!=0.5.2,>=0.2.1 in /opt/app-root/lib/python3.9/site-packages (from tensorflow->-r ../requirements.txt (line 8)) (0.5.4)\n",
      "Requirement already satisfied: typing-extensions>=3.6.6 in /opt/app-root/lib/python3.9/site-packages (from tensorflow->-r ../requirements.txt (line 8)) (4.9.0)\n",
      "Requirement already satisfied: protobuf!=4.21.0,!=4.21.1,!=4.21.2,!=4.21.3,!=4.21.4,!=4.21.5,<5.0.0dev,>=3.20.3 in /opt/app-root/lib/python3.9/site-packages (from tensorflow->-r ../requirements.txt (line 8)) (3.20.3)\n",
      "Requirement already satisfied: h5py>=2.9.0 in /opt/app-root/lib/python3.9/site-packages (from tensorflow->-r ../requirements.txt (line 8)) (3.10.0)\n",
      "Requirement already satisfied: opt-einsum>=2.3.2 in /opt/app-root/lib/python3.9/site-packages (from tensorflow->-r ../requirements.txt (line 8)) (3.3.0)\n",
      "Requirement already satisfied: termcolor>=1.1.0 in /opt/app-root/lib/python3.9/site-packages (from tensorflow->-r ../requirements.txt (line 8)) (2.4.0)\n",
      "Requirement already satisfied: grpcio<2.0,>=1.24.3 in /opt/app-root/lib/python3.9/site-packages (from tensorflow->-r ../requirements.txt (line 8)) (1.60.1)\n",
      "Requirement already satisfied: ml-dtypes~=0.2.0 in /opt/app-root/lib/python3.9/site-packages (from tensorflow->-r ../requirements.txt (line 8)) (0.2.0)\n",
      "Requirement already satisfied: tensorboard<2.16,>=2.15 in /opt/app-root/lib/python3.9/site-packages (from tensorflow->-r ../requirements.txt (line 8)) (2.15.2)\n",
      "Requirement already satisfied: astunparse>=1.6.0 in /opt/app-root/lib/python3.9/site-packages (from tensorflow->-r ../requirements.txt (line 8)) (1.6.3)\n",
      "Requirement already satisfied: setuptools in /opt/app-root/lib/python3.9/site-packages (from tensorflow->-r ../requirements.txt (line 8)) (68.1.2)\n",
      "Requirement already satisfied: wrapt<1.15,>=1.11.0 in /opt/app-root/lib/python3.9/site-packages (from tensorflow->-r ../requirements.txt (line 8)) (1.14.1)\n",
      "Requirement already satisfied: flatbuffers>=23.5.26 in /opt/app-root/lib/python3.9/site-packages (from tensorflow->-r ../requirements.txt (line 8)) (23.5.26)\n",
      "Requirement already satisfied: tensorflow-estimator<2.16,>=2.15.0 in /opt/app-root/lib/python3.9/site-packages (from tensorflow->-r ../requirements.txt (line 8)) (2.15.0)\n",
      "Requirement already satisfied: libclang>=13.0.0 in /opt/app-root/lib/python3.9/site-packages (from tensorflow->-r ../requirements.txt (line 8)) (16.0.6)\n",
      "Requirement already satisfied: tensorflow-io-gcs-filesystem>=0.23.1 in /opt/app-root/lib/python3.9/site-packages (from tensorflow->-r ../requirements.txt (line 8)) (0.36.0)\n",
      "Requirement already satisfied: google-pasta>=0.1.1 in /opt/app-root/lib/python3.9/site-packages (from tensorflow->-r ../requirements.txt (line 8)) (0.2.0)\n",
      "Requirement already satisfied: botocore<1.35.0,>=1.34.39 in /opt/app-root/lib/python3.9/site-packages (from boto3->-r ../requirements.txt (line 9)) (1.34.39)\n",
      "Requirement already satisfied: s3transfer<0.11.0,>=0.10.0 in /opt/app-root/lib/python3.9/site-packages (from boto3->-r ../requirements.txt (line 9)) (0.10.0)\n",
      "Requirement already satisfied: jmespath<2.0.0,>=0.7.1 in /opt/app-root/lib/python3.9/site-packages (from boto3->-r ../requirements.txt (line 9)) (1.0.1)\n",
      "Requirement already satisfied: multitasking>=0.0.7 in /opt/app-root/lib/python3.9/site-packages (from yfinance->-r ../requirements.txt (line 13)) (0.0.11)\n",
      "Requirement already satisfied: peewee>=3.16.2 in /opt/app-root/lib/python3.9/site-packages (from yfinance->-r ../requirements.txt (line 13)) (3.17.1)\n",
      "Requirement already satisfied: frozendict>=2.3.4 in /opt/app-root/lib/python3.9/site-packages (from yfinance->-r ../requirements.txt (line 13)) (2.4.0)\n",
      "Requirement already satisfied: beautifulsoup4>=4.11.1 in /opt/app-root/lib/python3.9/site-packages (from yfinance->-r ../requirements.txt (line 13)) (4.12.3)\n",
      "Requirement already satisfied: html5lib>=1.1 in /opt/app-root/lib/python3.9/site-packages (from yfinance->-r ../requirements.txt (line 13)) (1.1)\n",
      "Requirement already satisfied: appdirs>=1.4.4 in /opt/app-root/lib/python3.9/site-packages (from yfinance->-r ../requirements.txt (line 13)) (1.4.4)\n",
      "Requirement already satisfied: wheel<1.0,>=0.23.0 in /opt/app-root/lib/python3.9/site-packages (from astunparse>=1.6.0->tensorflow->-r ../requirements.txt (line 8)) (0.41.3)\n",
      "Requirement already satisfied: soupsieve>1.2 in /opt/app-root/lib/python3.9/site-packages (from beautifulsoup4>=4.11.1->yfinance->-r ../requirements.txt (line 13)) (2.5)\n",
      "Requirement already satisfied: urllib3<1.27,>=1.25.4 in /opt/app-root/lib/python3.9/site-packages (from botocore<1.35.0,>=1.34.39->boto3->-r ../requirements.txt (line 9)) (1.26.18)\n",
      "Requirement already satisfied: webencodings in /opt/app-root/lib/python3.9/site-packages (from html5lib>=1.1->yfinance->-r ../requirements.txt (line 13)) (0.5.1)\n",
      "Requirement already satisfied: zipp>=0.5 in /opt/app-root/lib/python3.9/site-packages (from importlib-metadata>=3.6.0->Flask->-r ../requirements.txt (line 1)) (3.17.0)\n",
      "Requirement already satisfied: MarkupSafe>=2.0 in /opt/app-root/lib/python3.9/site-packages (from Jinja2>=3.1.2->Flask->-r ../requirements.txt (line 1)) (2.1.4)\n",
      "Requirement already satisfied: certifi>=2017.4.17 in /opt/app-root/lib/python3.9/site-packages (from requests>=2.19.0->pandas_datareader==0.10.0->-r ../requirements.txt (line 12)) (2023.11.17)\n",
      "Requirement already satisfied: idna<4,>=2.5 in /opt/app-root/lib/python3.9/site-packages (from requests>=2.19.0->pandas_datareader==0.10.0->-r ../requirements.txt (line 12)) (3.6)\n",
      "Requirement already satisfied: charset-normalizer<4,>=2 in /opt/app-root/lib/python3.9/site-packages (from requests>=2.19.0->pandas_datareader==0.10.0->-r ../requirements.txt (line 12)) (3.3.2)\n",
      "Requirement already satisfied: tensorboard-data-server<0.8.0,>=0.7.0 in /opt/app-root/lib/python3.9/site-packages (from tensorboard<2.16,>=2.15->tensorflow->-r ../requirements.txt (line 8)) (0.7.2)\n",
      "Requirement already satisfied: google-auth-oauthlib<2,>=0.5 in /opt/app-root/lib/python3.9/site-packages (from tensorboard<2.16,>=2.15->tensorflow->-r ../requirements.txt (line 8)) (1.2.0)\n",
      "Requirement already satisfied: google-auth<3,>=1.6.3 in /opt/app-root/lib/python3.9/site-packages (from tensorboard<2.16,>=2.15->tensorflow->-r ../requirements.txt (line 8)) (2.27.0)\n",
      "Requirement already satisfied: markdown>=2.6.8 in /opt/app-root/lib/python3.9/site-packages (from tensorboard<2.16,>=2.15->tensorflow->-r ../requirements.txt (line 8)) (3.5.2)\n",
      "Requirement already satisfied: pyasn1-modules>=0.2.1 in /opt/app-root/lib/python3.9/site-packages (from google-auth<3,>=1.6.3->tensorboard<2.16,>=2.15->tensorflow->-r ../requirements.txt (line 8)) (0.3.0)\n",
      "Requirement already satisfied: rsa<5,>=3.1.4 in /opt/app-root/lib/python3.9/site-packages (from google-auth<3,>=1.6.3->tensorboard<2.16,>=2.15->tensorflow->-r ../requirements.txt (line 8)) (4.9)\n",
      "Requirement already satisfied: cachetools<6.0,>=2.0.0 in /opt/app-root/lib/python3.9/site-packages (from google-auth<3,>=1.6.3->tensorboard<2.16,>=2.15->tensorflow->-r ../requirements.txt (line 8)) (5.3.2)\n",
      "Requirement already satisfied: requests-oauthlib>=0.7.0 in /opt/app-root/lib/python3.9/site-packages (from google-auth-oauthlib<2,>=0.5->tensorboard<2.16,>=2.15->tensorflow->-r ../requirements.txt (line 8)) (1.3.1)\n",
      "Requirement already satisfied: pyasn1<0.6.0,>=0.4.6 in /opt/app-root/lib/python3.9/site-packages (from pyasn1-modules>=0.2.1->google-auth<3,>=1.6.3->tensorboard<2.16,>=2.15->tensorflow->-r ../requirements.txt (line 8)) (0.5.1)\n",
      "Requirement already satisfied: oauthlib>=3.0.0 in /opt/app-root/lib/python3.9/site-packages (from requests-oauthlib>=0.7.0->google-auth-oauthlib<2,>=0.5->tensorboard<2.16,>=2.15->tensorflow->-r ../requirements.txt (line 8)) (3.2.2)\n",
      "\n",
      "\u001b[1m[\u001b[0m\u001b[34;49mnotice\u001b[0m\u001b[1;39;49m]\u001b[0m\u001b[39;49m A new release of pip available: \u001b[0m\u001b[31;49m22.2.2\u001b[0m\u001b[39;49m -> \u001b[0m\u001b[32;49m24.0\u001b[0m\n",
      "\u001b[1m[\u001b[0m\u001b[34;49mnotice\u001b[0m\u001b[1;39;49m]\u001b[0m\u001b[39;49m To update, run: \u001b[0m\u001b[32;49mpip install --upgrade pip\u001b[0m\n"
     ]
    }
   ],
   "source": [
    "import sys\n",
    "!{sys.executable} -m pip install -r ../requirements.txt"
   ]
  },
  {
   "cell_type": "code",
   "execution_count": 30,
   "id": "6bba03a1-1678-45c9-aa32-28c6a63f9bc1",
   "metadata": {
    "tags": []
   },
   "outputs": [],
   "source": [
    "import boto3\n",
    "import matplotlib.pyplot as plt\n",
    "import pandas as pd\n",
    "from pandas_datareader import data as pdr\n",
    "import numpy as np\n",
    "from sklearn.preprocessing import MinMaxScaler\n",
    "from tensorflow import keras\n",
    "import tf2onnx\n",
    "import onnx\n",
    "import yfinance as yfin\n",
    "import time\n"
   ]
  },
  {
   "cell_type": "code",
   "execution_count": 3,
   "id": "8394b0b1-4286-460f-ac3b-7fd3bc08da8b",
   "metadata": {},
   "outputs": [],
   "source": [
    "# s3_client = boto3.client('s3')\n",
    "# response = s3_client.get_object(Bucket=\"gmidha-bigdata-nov07\", Key=\"msftdata.csv\")\n",
    "\n",
    "# status = response.get(\"ResponseMetadata\", {}).get(\"HTTPStatusCode\")\n",
    "\n",
    "# if status == 200:\n",
    "#     print(f\"Successful S3 get_object response. Status - {status}\")\n",
    "#     msft_df = pd.read_csv(response.get(\"Body\"))\n",
    "#     print(msft_df)\n",
    "# else:\n",
    "#     print(f\"Unsuccessful S3 get_object response. Status - {status}\")"
   ]
  },
  {
   "cell_type": "code",
   "execution_count": 4,
   "id": "52660dfc-8129-4400-9626-885b046851c4",
   "metadata": {},
   "outputs": [],
   "source": [
    "# conn = trino.dbapi.connect(\n",
    "#         host,\n",
    "#         port,\n",
    "#         http_scheme='http',\n",
    "#         user='admin'\n",
    "#         )"
   ]
  },
  {
   "cell_type": "code",
   "execution_count": 5,
   "id": "8d115296-610c-4836-8e82-743782d15b98",
   "metadata": {},
   "outputs": [],
   "source": [
    "#msft = pd.read_csv(\"../msftdata.csv\")"
   ]
  },
  {
   "cell_type": "code",
   "execution_count": 32,
   "id": "6c98db3a-f0cd-44d7-ab56-e1470e65ffe9",
   "metadata": {
    "tags": []
   },
   "outputs": [
    {
     "name": "stderr",
     "output_type": "stream",
     "text": [
      "/opt/app-root/lib64/python3.9/site-packages/yfinance/utils.py:775: FutureWarning: The 'unit' keyword in TimedeltaIndex construction is deprecated and will be removed in a future version. Use pd.to_timedelta instead.\n",
      "  df.index += _pd.TimedeltaIndex(dst_error_hours, 'h')\n",
      "[*********************100%%**********************]  1 of 1 completed"
     ]
    },
    {
     "name": "stdout",
     "output_type": "stream",
     "text": [
      "                  Open        High         Low       Close   Adj Close  \\\n",
      "Date                                                                     \n",
      "2017-01-03   62.790001   62.840000   62.130001   62.580002   57.138737   \n",
      "2017-01-04   62.480000   62.750000   62.119999   62.299999   56.883064   \n",
      "2017-01-05   62.189999   62.660000   62.029999   62.299999   56.883064   \n",
      "2017-01-06   62.299999   63.150002   62.040001   62.840000   57.376122   \n",
      "2017-01-09   62.759998   63.080002   62.540001   62.639999   57.193516   \n",
      "...                ...         ...         ...         ...         ...   \n",
      "2022-01-25  291.519989  294.989990  285.170013  288.489990  283.299896   \n",
      "2022-01-26  307.989990  308.500000  293.029999  296.709991  291.372009   \n",
      "2022-01-27  302.660004  307.299988  297.929993  299.839996  294.445740   \n",
      "2022-01-28  300.230011  308.480011  294.450012  308.260010  302.714264   \n",
      "2022-01-31  308.950012  312.380005  306.369995  310.980011  305.385315   \n",
      "\n",
      "              Volume  \n",
      "Date                  \n",
      "2017-01-03  20694100  \n",
      "2017-01-04  21340000  \n",
      "2017-01-05  24876000  \n",
      "2017-01-06  19922900  \n",
      "2017-01-09  20382700  \n",
      "...              ...  \n",
      "2022-01-25  72848600  \n",
      "2022-01-26  90428900  \n",
      "2022-01-27  53481300  \n",
      "2022-01-28  49743700  \n",
      "2022-01-31  46444500  \n",
      "\n",
      "[1279 rows x 6 columns]\n"
     ]
    },
    {
     "name": "stderr",
     "output_type": "stream",
     "text": [
      "\n"
     ]
    }
   ],
   "source": [
    "\n",
    "yfin.pdr_override()\n",
    "\n",
    "msft = pdr.get_data_yahoo('MSFT', start='2017-01-01', end='2022-02-01')\n",
    "\n",
    "print(msft)"
   ]
  },
  {
   "cell_type": "code",
   "execution_count": 33,
   "id": "36bb0ef6-fc92-44fc-9a18-b73a73220a19",
   "metadata": {
    "tags": []
   },
   "outputs": [
    {
     "data": {
      "text/plain": [
       "(1279, 6)"
      ]
     },
     "execution_count": 33,
     "metadata": {},
     "output_type": "execute_result"
    }
   ],
   "source": [
    "\n",
    "msft.shape"
   ]
  },
  {
   "cell_type": "code",
   "execution_count": 34,
   "id": "0a797d85-0d2b-4eb6-b7ba-f4d526805beb",
   "metadata": {
    "tags": []
   },
   "outputs": [],
   "source": [
    "msft = msft.reset_index()"
   ]
  },
  {
   "cell_type": "code",
   "execution_count": 35,
   "id": "532b3b60-c96f-445c-ad1d-8251689d446a",
   "metadata": {
    "tags": []
   },
   "outputs": [
    {
     "data": {
      "text/html": [
       "<div>\n",
       "<style scoped>\n",
       "    .dataframe tbody tr th:only-of-type {\n",
       "        vertical-align: middle;\n",
       "    }\n",
       "\n",
       "    .dataframe tbody tr th {\n",
       "        vertical-align: top;\n",
       "    }\n",
       "\n",
       "    .dataframe thead th {\n",
       "        text-align: right;\n",
       "    }\n",
       "</style>\n",
       "<table border=\"1\" class=\"dataframe\">\n",
       "  <thead>\n",
       "    <tr style=\"text-align: right;\">\n",
       "      <th></th>\n",
       "      <th>Date</th>\n",
       "      <th>Open</th>\n",
       "      <th>High</th>\n",
       "      <th>Low</th>\n",
       "      <th>Close</th>\n",
       "      <th>Adj Close</th>\n",
       "      <th>Volume</th>\n",
       "    </tr>\n",
       "  </thead>\n",
       "  <tbody>\n",
       "    <tr>\n",
       "      <th>0</th>\n",
       "      <td>2017-01-03</td>\n",
       "      <td>62.790001</td>\n",
       "      <td>62.840000</td>\n",
       "      <td>62.130001</td>\n",
       "      <td>62.580002</td>\n",
       "      <td>57.138737</td>\n",
       "      <td>20694100</td>\n",
       "    </tr>\n",
       "    <tr>\n",
       "      <th>1</th>\n",
       "      <td>2017-01-04</td>\n",
       "      <td>62.480000</td>\n",
       "      <td>62.750000</td>\n",
       "      <td>62.119999</td>\n",
       "      <td>62.299999</td>\n",
       "      <td>56.883064</td>\n",
       "      <td>21340000</td>\n",
       "    </tr>\n",
       "    <tr>\n",
       "      <th>2</th>\n",
       "      <td>2017-01-05</td>\n",
       "      <td>62.189999</td>\n",
       "      <td>62.660000</td>\n",
       "      <td>62.029999</td>\n",
       "      <td>62.299999</td>\n",
       "      <td>56.883064</td>\n",
       "      <td>24876000</td>\n",
       "    </tr>\n",
       "    <tr>\n",
       "      <th>3</th>\n",
       "      <td>2017-01-06</td>\n",
       "      <td>62.299999</td>\n",
       "      <td>63.150002</td>\n",
       "      <td>62.040001</td>\n",
       "      <td>62.840000</td>\n",
       "      <td>57.376122</td>\n",
       "      <td>19922900</td>\n",
       "    </tr>\n",
       "    <tr>\n",
       "      <th>4</th>\n",
       "      <td>2017-01-09</td>\n",
       "      <td>62.759998</td>\n",
       "      <td>63.080002</td>\n",
       "      <td>62.540001</td>\n",
       "      <td>62.639999</td>\n",
       "      <td>57.193516</td>\n",
       "      <td>20382700</td>\n",
       "    </tr>\n",
       "  </tbody>\n",
       "</table>\n",
       "</div>"
      ],
      "text/plain": [
       "        Date       Open       High        Low      Close  Adj Close    Volume\n",
       "0 2017-01-03  62.790001  62.840000  62.130001  62.580002  57.138737  20694100\n",
       "1 2017-01-04  62.480000  62.750000  62.119999  62.299999  56.883064  21340000\n",
       "2 2017-01-05  62.189999  62.660000  62.029999  62.299999  56.883064  24876000\n",
       "3 2017-01-06  62.299999  63.150002  62.040001  62.840000  57.376122  19922900\n",
       "4 2017-01-09  62.759998  63.080002  62.540001  62.639999  57.193516  20382700"
      ]
     },
     "execution_count": 35,
     "metadata": {},
     "output_type": "execute_result"
    }
   ],
   "source": [
    "msft.head()"
   ]
  },
  {
   "cell_type": "code",
   "execution_count": 36,
   "id": "af10773a-a5a5-4655-8ce1-56b18ddae8d4",
   "metadata": {
    "tags": []
   },
   "outputs": [
    {
     "name": "stdout",
     "output_type": "stream",
     "text": [
      "                 Date        Open        High         Low       Close  \\\n",
      "Date                                                                    \n",
      "2017-01-03 2017-01-03   62.790001   62.840000   62.130001   62.580002   \n",
      "2017-01-04 2017-01-04   62.480000   62.750000   62.119999   62.299999   \n",
      "2017-01-05 2017-01-05   62.189999   62.660000   62.029999   62.299999   \n",
      "2017-01-06 2017-01-06   62.299999   63.150002   62.040001   62.840000   \n",
      "2017-01-09 2017-01-09   62.759998   63.080002   62.540001   62.639999   \n",
      "...               ...         ...         ...         ...         ...   \n",
      "2022-01-25 2022-01-25  291.519989  294.989990  285.170013  288.489990   \n",
      "2022-01-26 2022-01-26  307.989990  308.500000  293.029999  296.709991   \n",
      "2022-01-27 2022-01-27  302.660004  307.299988  297.929993  299.839996   \n",
      "2022-01-28 2022-01-28  300.230011  308.480011  294.450012  308.260010   \n",
      "2022-01-31 2022-01-31  308.950012  312.380005  306.369995  310.980011   \n",
      "\n",
      "             Adj Close    Volume  \n",
      "Date                              \n",
      "2017-01-03   57.138737  20694100  \n",
      "2017-01-04   56.883064  21340000  \n",
      "2017-01-05   56.883064  24876000  \n",
      "2017-01-06   57.376122  19922900  \n",
      "2017-01-09   57.193516  20382700  \n",
      "...                ...       ...  \n",
      "2022-01-25  283.299896  72848600  \n",
      "2022-01-26  291.372009  90428900  \n",
      "2022-01-27  294.445740  53481300  \n",
      "2022-01-28  302.714264  49743700  \n",
      "2022-01-31  305.385315  46444500  \n",
      "\n",
      "[1279 rows x 7 columns]\n"
     ]
    }
   ],
   "source": [
    "msft.index = pd.to_datetime(msft['Date'], format='%d.%m.%Y %H:%M:%S')\n",
    "\n",
    "print(msft)"
   ]
  },
  {
   "cell_type": "code",
   "execution_count": 37,
   "id": "a2b9ed9b-adbf-46fd-9d9b-3130007640a3",
   "metadata": {
    "tags": []
   },
   "outputs": [
    {
     "name": "stdout",
     "output_type": "stream",
     "text": [
      "<class 'pandas.core.frame.DataFrame'>\n",
      "DatetimeIndex: 1279 entries, 2017-01-03 to 2022-01-31\n",
      "Data columns (total 7 columns):\n",
      " #   Column     Non-Null Count  Dtype         \n",
      "---  ------     --------------  -----         \n",
      " 0   Date       1279 non-null   datetime64[ns]\n",
      " 1   Open       1279 non-null   float64       \n",
      " 2   High       1279 non-null   float64       \n",
      " 3   Low        1279 non-null   float64       \n",
      " 4   Close      1279 non-null   float64       \n",
      " 5   Adj Close  1279 non-null   float64       \n",
      " 6   Volume     1279 non-null   int64         \n",
      "dtypes: datetime64[ns](1), float64(5), int64(1)\n",
      "memory usage: 79.9 KB\n"
     ]
    }
   ],
   "source": [
    "msft.info()"
   ]
  },
  {
   "cell_type": "code",
   "execution_count": 38,
   "id": "1ab67275-ba5e-4dcd-8627-a7f53002acb8",
   "metadata": {
    "tags": []
   },
   "outputs": [
    {
     "data": {
      "text/plain": [
       "<Axes: xlabel='Date'>"
      ]
     },
     "execution_count": 38,
     "metadata": {},
     "output_type": "execute_result"
    },
    {
     "data": {
      "image/png": "[encoded data removed]",
      "text/plain": [
       "<Figure size 640x480 with 1 Axes>"
      ]
     },
     "metadata": {},
     "output_type": "display_data"
    }
   ],
   "source": [
    "close_data = msft.filter(['Close'])\n",
    "close_data.plot()"
   ]
  },
  {
   "cell_type": "code",
   "execution_count": 39,
   "id": "8e871d2f-cb5a-422e-a8b6-6a86bc2e8438",
   "metadata": {
    "tags": []
   },
   "outputs": [
    {
     "name": "stdout",
     "output_type": "stream",
     "text": [
      "[[ 62.58000183]\n",
      " [ 62.29999924]\n",
      " [ 62.29999924]\n",
      " ...\n",
      " [299.83999634]\n",
      " [308.26000977]\n",
      " [310.98001099]]\n",
      "1216\n"
     ]
    }
   ],
   "source": [
    "dataset = close_data.values\n",
    "print(dataset)\n",
    "training = int(np.ceil(len(dataset) * .95))\n",
    "print(training)"
   ]
  },
  {
   "cell_type": "code",
   "execution_count": 40,
   "id": "02c298c9-207b-4d03-9975-04bebd4ff587",
   "metadata": {
    "tags": []
   },
   "outputs": [
    {
     "name": "stdout",
     "output_type": "stream",
     "text": [
      "[[0.00099712]\n",
      " [0.        ]\n",
      " [0.        ]\n",
      " ...\n",
      " [0.92899123]\n",
      " [0.93319333]\n",
      " [0.95908269]]\n"
     ]
    }
   ],
   "source": [
    "\n",
    " \n",
    "scaler = MinMaxScaler(feature_range=(0, 1))\n",
    "scaled_data = scaler.fit_transform(dataset)\n",
    "train_data = scaled_data[0:int(training), :]\n",
    "print(train_data)\n",
    "# prepare feature and labels\n",
    "x_train = []\n",
    "y_train = []\n",
    " \n",
    "for i in range(60, len(train_data)):\n",
    "    x_train.append(train_data[i-60:i, 0])\n",
    "    y_train.append(train_data[i, 0])\n",
    " \n",
    "x_train, y_train = np.array(x_train), np.array(y_train)\n",
    "x_train = np.reshape(x_train, (x_train.shape[0], x_train.shape[1], 1))\n"
   ]
  },
  {
   "cell_type": "code",
   "execution_count": 41,
   "id": "ade67596-303b-4062-8da4-769b2c344439",
   "metadata": {
    "tags": []
   },
   "outputs": [
    {
     "data": {
      "text/plain": [
       "<bound method Model.summary of <keras.src.engine.sequential.Sequential object at 0x7f06e93e1490>>"
      ]
     },
     "execution_count": 41,
     "metadata": {},
     "output_type": "execute_result"
    }
   ],
   "source": [
    "model = keras.models.Sequential()\n",
    "model.add(keras.layers.LSTM(units=64,\n",
    "                            return_sequences=True,\n",
    "                            input_shape=(x_train.shape[1], 1)))\n",
    "model.add(keras.layers.LSTM(units=64))\n",
    "model.add(keras.layers.Dense(32))\n",
    "model.add(keras.layers.Dropout(0.5))\n",
    "model.add(keras.layers.Dense(1))\n",
    "model.summary\n",
    "\n"
   ]
  },
  {
   "cell_type": "code",
   "execution_count": 42,
   "id": "84b66730-309a-4cee-9595-9d5edb442e15",
   "metadata": {
    "tags": []
   },
   "outputs": [
    {
     "name": "stdout",
     "output_type": "stream",
     "text": [
      "Epoch 1/10\n",
      "37/37 [==============================] - 3s 29ms/step - loss: 0.0196\n",
      "Epoch 2/10\n",
      "37/37 [==============================] - 1s 28ms/step - loss: 0.0062\n",
      "Epoch 3/10\n",
      "37/37 [==============================] - 1s 28ms/step - loss: 0.0063\n",
      "Epoch 4/10\n",
      "37/37 [==============================] - 1s 28ms/step - loss: 0.0064\n",
      "Epoch 5/10\n",
      "37/37 [==============================] - 1s 27ms/step - loss: 0.0052\n",
      "Epoch 6/10\n",
      "37/37 [==============================] - 1s 28ms/step - loss: 0.0057\n",
      "Epoch 7/10\n",
      "37/37 [==============================] - 1s 27ms/step - loss: 0.0049\n",
      "Epoch 8/10\n",
      "37/37 [==============================] - 1s 27ms/step - loss: 0.0052\n",
      "Epoch 9/10\n",
      "37/37 [==============================] - 1s 27ms/step - loss: 0.0051\n",
      "Epoch 10/10\n",
      "37/37 [==============================] - 1s 27ms/step - loss: 0.0044\n"
     ]
    }
   ],
   "source": [
    "model.compile(optimizer='adam',\n",
    "              loss='mean_squared_error')\n",
    "history = model.fit(x_train,\n",
    "                    y_train,\n",
    "                    epochs=10)"
   ]
  },
  {
   "cell_type": "code",
   "execution_count": 51,
   "id": "c0f3f728-eb5d-4266-8043-84b971207653",
   "metadata": {
    "tags": []
   },
   "outputs": [
    {
     "name": "stdout",
     "output_type": "stream",
     "text": [
      "[[[0.80894556]\n",
      "  [0.80492147]\n",
      "  [0.798191  ]\n",
      "  ...\n",
      "  [0.92899123]\n",
      "  [0.93319333]\n",
      "  [0.95908269]]\n",
      "\n",
      " [[0.80492147]\n",
      "  [0.798191  ]\n",
      "  [0.80000721]\n",
      "  ...\n",
      "  [0.93319333]\n",
      "  [0.95908269]\n",
      "  [0.95107015]]\n",
      "\n",
      " [[0.798191  ]\n",
      "  [0.80000721]\n",
      "  [0.81019198]\n",
      "  ...\n",
      "  [0.95908269]\n",
      "  [0.95107015]\n",
      "  [0.96446002]]\n",
      "\n",
      " ...\n",
      "\n",
      " [[0.95107015]\n",
      "  [0.96446002]\n",
      "  [0.96755819]\n",
      "  ...\n",
      "  [0.83355296]\n",
      "  [0.80549127]\n",
      "  [0.83476373]]\n",
      "\n",
      " [[0.96446002]\n",
      "  [0.96755819]\n",
      "  [0.97624734]\n",
      "  ...\n",
      "  [0.80549127]\n",
      "  [0.83476373]\n",
      "  [0.84591008]]\n",
      "\n",
      " [[0.96755819]\n",
      "  [0.97624734]\n",
      "  [0.9748941 ]\n",
      "  ...\n",
      "  [0.83476373]\n",
      "  [0.84591008]\n",
      "  [0.87589481]]]\n",
      "2/2 [==============================] - 0s 9ms/step\n",
      "[[289.45999146]\n",
      " [288.32998657]\n",
      " [286.44000244]\n",
      " [286.95001221]\n",
      " [289.80999756]\n",
      " [292.8500061 ]\n",
      " [294.6000061 ]\n",
      " [293.07998657]\n",
      " [290.73001099]\n",
      " [296.76998901]\n",
      " [304.35998535]\n",
      " [304.6499939 ]\n",
      " [302.61999512]\n",
      " [302.01000977]\n",
      " [299.08999634]\n",
      " [299.72000122]\n",
      " [303.58999634]\n",
      " [301.88000488]\n",
      " [301.82998657]\n",
      " [301.1499939 ]\n",
      " [301.14001465]\n",
      " [300.17999268]\n",
      " [300.20999146]\n",
      " [297.25      ]\n",
      " [295.70999146]\n",
      " [296.98999023]\n",
      " [299.79000854]\n",
      " [304.82000732]\n",
      " [305.22000122]\n",
      " [299.86999512]\n",
      " [294.29998779]\n",
      " [294.79998779]\n",
      " [298.57998657]\n",
      " [299.55999756]\n",
      " [299.3500061 ]\n",
      " [294.17001343]\n",
      " [283.51998901]\n",
      " [284.        ]\n",
      " [281.92001343]\n",
      " [289.1000061 ]\n",
      " [283.10998535]\n",
      " [288.76000977]\n",
      " [293.10998535]\n",
      " [294.8500061 ]\n",
      " [294.8500061 ]\n",
      " [294.23001099]\n",
      " [292.88000488]\n",
      " [296.30999756]\n",
      " [302.75      ]\n",
      " [304.20999146]\n",
      " [307.29000854]\n",
      " [308.23001099]\n",
      " [307.41000366]\n",
      " [310.76000977]\n",
      " [309.16000366]\n",
      " [308.13000488]\n",
      " [310.10998535]\n",
      " [323.17001343]\n",
      " [324.3500061 ]\n",
      " [331.61999512]\n",
      " [329.36999512]\n",
      " [333.13000488]\n",
      " [334.        ]\n",
      " [336.44000244]\n",
      " [336.05999756]\n",
      " [336.98999023]\n",
      " [335.95001221]\n",
      " [330.79998779]\n",
      " [332.42999268]\n",
      " [336.72000122]\n",
      " [336.07000732]\n",
      " [339.51000977]\n",
      " [339.11999512]\n",
      " [341.26998901]\n",
      " [343.10998535]\n",
      " [339.82998657]\n",
      " [337.67999268]\n",
      " [337.91000366]\n",
      " [329.67999268]\n",
      " [336.63000488]\n",
      " [330.58999634]\n",
      " [330.07998657]\n",
      " [329.48999023]\n",
      " [323.01000977]\n",
      " [326.19000244]\n",
      " [334.92001343]\n",
      " [334.97000122]\n",
      " [333.1000061 ]\n",
      " [342.54000854]\n",
      " [339.3999939 ]\n",
      " [328.33999634]\n",
      " [334.6499939 ]\n",
      " [324.8999939 ]\n",
      " [323.79998779]\n",
      " [319.91000366]\n",
      " [327.29000854]\n",
      " [333.20001221]\n",
      " [334.69000244]\n",
      " [342.45001221]\n",
      " [341.25      ]\n",
      " [341.95001221]\n",
      " [339.32000732]\n",
      " [336.32000732]\n",
      " [334.75      ]\n",
      " [329.01000977]\n",
      " [316.38000488]\n",
      " [313.88000488]\n",
      " [314.04000854]\n",
      " [314.26998901]\n",
      " [314.98001099]\n",
      " [318.26998901]\n",
      " [304.79998779]\n",
      " [310.20001221]\n",
      " [302.6499939 ]\n",
      " [303.32998657]\n",
      " [301.6000061 ]\n",
      " [296.02999878]\n",
      " [296.36999512]\n",
      " [288.48999023]\n",
      " [296.70999146]\n",
      " [299.83999634]\n",
      " [308.26000977]\n",
      " [310.98001099]]\n",
      "===\n",
      "[[298.254  ]\n",
      " [300.63132]\n",
      " [303.08978]\n",
      " [305.50827]\n",
      " [307.89206]\n",
      " [310.10837]\n",
      " [312.14935]\n",
      " [313.92282]\n",
      " [315.18988]\n",
      " [316.15866]\n",
      " [317.09406]\n",
      " [317.9236 ]\n",
      " [318.81082]\n",
      " [319.66534]\n",
      " [320.55942]\n",
      " [321.5175 ]\n",
      " [322.3066 ]\n",
      " [322.85037]\n",
      " [323.22565]\n",
      " [323.08038]\n",
      " [322.96075]\n",
      " [322.5632 ]\n",
      " [321.99625]\n",
      " [321.32428]\n",
      " [320.31018]\n",
      " [319.29556]\n",
      " [318.74805]\n",
      " [318.5129 ]\n",
      " [318.3971 ]\n",
      " [318.81802]\n",
      " [319.3902 ]\n",
      " [319.50092]\n",
      " [319.63354]\n",
      " [319.29422]\n",
      " [318.6363 ]\n",
      " [317.62506]\n",
      " [316.80457]\n",
      " [316.4205 ]\n",
      " [316.39508]\n",
      " [316.9681 ]\n",
      " [317.81946]\n",
      " [318.83698]\n",
      " [319.77832]\n",
      " [320.4822 ]\n",
      " [320.9284 ]\n",
      " [320.91553]\n",
      " [320.015  ]\n",
      " [318.4994 ]\n",
      " [316.6852 ]\n",
      " [314.78726]\n",
      " [312.96884]\n",
      " [311.45276]\n",
      " [309.54947]\n",
      " [307.78046]\n",
      " [305.81268]\n",
      " [303.86377]\n",
      " [301.94095]\n",
      " [299.8644 ]\n",
      " [297.8205 ]\n",
      " [295.51688]\n",
      " [293.57733]\n",
      " [292.1084 ]\n",
      " [291.41797]]\n",
      "MSE 271.0657743883748\n",
      "RMSE 16.464075266724663\n"
     ]
    }
   ],
   "source": [
    "test_data = scaled_data[training - 60:, :]\n",
    "x_test = []\n",
    "y_test = dataset[training:, :]\n",
    "for i in range(60, len(test_data)):\n",
    "    x_test.append(test_data[i-60:i, 0])\n",
    " \n",
    "x_test = np.array(x_test)\n",
    "x_test = np.reshape(x_test, (x_test.shape[0], x_test.shape[1], 1))\n",
    "\n",
    "print(x_test)\n",
    "\n",
    "# predict the testing data\n",
    "predictions = model.predict(x_test)\n",
    "predictions = scaler.inverse_transform(predictions)\n",
    "\n",
    "actual = scaler.inverse_transform(test_data)\n",
    "print(actual)\n",
    "\n",
    "print(\"===\")\n",
    "print(predictions)\n",
    "\n",
    "# evaluation metrics\n",
    "mse = np.mean(((predictions - y_test) ** 2))\n",
    "print(\"MSE\", mse)\n",
    "print(\"RMSE\", np.sqrt(mse))\n"
   ]
  },
  {
   "cell_type": "code",
   "execution_count": 45,
   "id": "99b2f054-20af-4a31-91df-bd0c1b6db60c",
   "metadata": {
    "tags": []
   },
   "outputs": [
    {
     "name": "stderr",
     "output_type": "stream",
     "text": [
      "/tmp/ipykernel_510/3634165671.py:3: SettingWithCopyWarning: \n",
      "A value is trying to be set on a copy of a slice from a DataFrame.\n",
      "Try using .loc[row_indexer,col_indexer] = value instead\n",
      "\n",
      "See the caveats in the documentation: https://pandas.pydata.org/pandas-docs/stable/user_guide/indexing.html#returning-a-view-versus-a-copy\n",
      "  test['Predictions'] = predictions\n"
     ]
    },
    {
     "data": {
      "text/plain": [
       "<matplotlib.legend.Legend at 0x7f0680061e50>"
      ]
     },
     "execution_count": 45,
     "metadata": {},
     "output_type": "execute_result"
    },
    {
     "data": {
      "image/png": "[encoded data removed]",
      "text/plain": [
       "<Figure size 1000x800 with 1 Axes>"
      ]
     },
     "metadata": {},
     "output_type": "display_data"
    }
   ],
   "source": [
    "train = msft[:training]\n",
    "test = msft[training:]\n",
    "test['Predictions'] = predictions\n",
    " \n",
    "plt.figure(figsize=(10, 8))\n",
    "plt.plot(train['Date'], train['Close'])\n",
    "plt.plot(test['Date'], test[['Close', 'Predictions']])\n",
    "plt.title('MSFT Stock Close Price')\n",
    "plt.xlabel('Date')\n",
    "plt.ylabel(\"Close\")\n",
    "plt.legend(['Train', 'Test', 'Predictions'])"
   ]
  },
  {
   "cell_type": "code",
   "execution_count": 52,
   "id": "fc6a9fdb-9f1f-4292-b74a-1b5d098dd3ef",
   "metadata": {
    "tags": []
   },
   "outputs": [],
   "source": [
    "model.save(\"./stock_predict.keras\")"
   ]
  },
  {
   "cell_type": "code",
   "execution_count": 55,
   "id": "6a718045-daad-41ec-809f-92dbed92e563",
   "metadata": {
    "tags": []
   },
   "outputs": [
    {
     "name": "stderr",
     "output_type": "stream",
     "text": [
      "2024-02-13 09:34:51.930617: I tensorflow/core/grappler/devices.cc:66] Number of eligible GPUs (core count >= 8, compute capability >= 0.0): 0\n",
      "2024-02-13 09:34:51.930752: I tensorflow/core/grappler/clusters/single_machine.cc:361] Starting new session\n",
      "2024-02-13 09:34:52.034579: I tensorflow/core/grappler/devices.cc:66] Number of eligible GPUs (core count >= 8, compute capability >= 0.0): 0\n",
      "2024-02-13 09:34:52.034697: I tensorflow/core/grappler/clusters/single_machine.cc:361] Starting new session\n",
      "2024-02-13 09:34:52.119600: I tensorflow/compiler/mlir/mlir_graph_optimization_pass.cc:388] MLIR V1 optimization pass is not enabled\n"
     ]
    }
   ],
   "source": [
    "onnx_model, _ = tf2onnx.convert.from_keras(model)\n",
    "onnx.save(onnx_model, \"./model.onnx\")"
   ]
  },
  {
   "cell_type": "code",
   "execution_count": null,
   "id": "0e142d29-3072-4669-8de7-5868360aa6fe",
   "metadata": {},
   "outputs": [],
   "source": []
  }
 ],
 "metadata": {
  "kernelspec": {
   "display_name": "Python 3.9",
   "language": "python",
   "name": "python3"
  },
  "language_info": {
   "codemirror_mode": {
    "name": "ipython",
    "version": 3
   },
   "file_extension": ".py",
   "mimetype": "text/x-python",
   "name": "python",
   "nbconvert_exporter": "python",
   "pygments_lexer": "ipython3",
   "version": "3.9.16"
  }
 },
 "nbformat": 4,
 "nbformat_minor": 5
}
