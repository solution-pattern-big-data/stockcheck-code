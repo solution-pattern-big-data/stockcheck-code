{
 "cells": [
  {
   "cell_type": "code",
   "execution_count": 1,
   "id": "ae71c6be-3e6f-4d52-b738-11adb5851494",
   "metadata": {
    "tags": []
   },
   "outputs": [
    {
     "name": "stdout",
     "output_type": "stream",
     "text": [
      "Collecting Flask\n",
      "  Downloading flask-3.0.2-py3-none-any.whl (101 kB)\n",
      "\u001b[2K     \u001b[90m━━━━━━━━━━━━━━━━━━━━━━━━━━━━━━━━━━━━━━━\u001b[0m \u001b[32m101.3/101.3 kB\u001b[0m \u001b[31m3.9 MB/s\u001b[0m eta \u001b[36m0:00:00\u001b[0m\n",
      "\u001b[?25hCollecting gunicorn\n",
      "  Downloading gunicorn-21.2.0-py3-none-any.whl (80 kB)\n",
      "\u001b[2K     \u001b[90m━━━━━━━━━━━━━━━━━━━━━━━━━━━━━━━━━━━━━━━━\u001b[0m \u001b[32m80.2/80.2 kB\u001b[0m \u001b[31m5.6 MB/s\u001b[0m eta \u001b[36m0:00:00\u001b[0m\n",
      "\u001b[?25hCollecting trino\n",
      "  Downloading trino-0.328.0-py3-none-any.whl (52 kB)\n",
      "\u001b[2K     \u001b[90m━━━━━━━━━━━━━━━━━━━━━━━━━━━━━━━━━━━━━━━\u001b[0m \u001b[32m52.1/52.1 kB\u001b[0m \u001b[31m235.7 MB/s\u001b[0m eta \u001b[36m0:00:00\u001b[0m\n",
      "\u001b[?25hCollecting numpy\n",
      "  Downloading numpy-1.26.4-cp39-cp39-manylinux_2_17_x86_64.manylinux2014_x86_64.whl (18.2 MB)\n",
      "\u001b[2K     \u001b[90m━━━━━━━━━━━━━━━━━━━━━━━━━━━━━━━━━━━━━━━\u001b[0m \u001b[32m18.2/18.2 MB\u001b[0m \u001b[31m171.9 MB/s\u001b[0m eta \u001b[36m0:00:00\u001b[0ma \u001b[36m0:00:01\u001b[0m\n",
      "\u001b[?25hCollecting pandas\n",
      "  Downloading pandas-2.2.1-cp39-cp39-manylinux_2_17_x86_64.manylinux2014_x86_64.whl (13.0 MB)\n",
      "\u001b[2K     \u001b[90m━━━━━━━━━━━━━━━━━━━━━━━━━━━━━━━━━━━━━━━\u001b[0m \u001b[32m13.0/13.0 MB\u001b[0m \u001b[31m204.8 MB/s\u001b[0m eta \u001b[36m0:00:00\u001b[0ma \u001b[36m0:00:01\u001b[0m\n",
      "\u001b[?25hCollecting matplotlib\n",
      "  Downloading matplotlib-3.8.3-cp39-cp39-manylinux_2_17_x86_64.manylinux2014_x86_64.whl (11.6 MB)\n",
      "\u001b[2K     \u001b[90m━━━━━━━━━━━━━━━━━━━━━━━━━━━━━━━━━━━━━━━\u001b[0m \u001b[32m11.6/11.6 MB\u001b[0m \u001b[31m213.4 MB/s\u001b[0m eta \u001b[36m0:00:00\u001b[0ma \u001b[36m0:00:01\u001b[0m\n",
      "\u001b[?25hCollecting scikit-learn\n",
      "  Downloading scikit_learn-1.4.1.post1-cp39-cp39-manylinux_2_17_x86_64.manylinux2014_x86_64.whl (12.2 MB)\n",
      "\u001b[2K     \u001b[90m━━━━━━━━━━━━━━━━━━━━━━━━━━━━━━━━━━━━━━━\u001b[0m \u001b[32m12.2/12.2 MB\u001b[0m \u001b[31m200.4 MB/s\u001b[0m eta \u001b[36m0:00:00\u001b[0ma \u001b[36m0:00:01\u001b[0m\n",
      "\u001b[?25hCollecting tensorflow\n",
      "  Downloading tensorflow-2.15.0.post1-cp39-cp39-manylinux_2_17_x86_64.manylinux2014_x86_64.whl (475.2 MB)\n",
      "\u001b[2K     \u001b[90m━━━━━━━━━━━━━━━━━━━━━━━━━━━━━━━━━━━━━\u001b[0m \u001b[32m475.2/475.2 MB\u001b[0m \u001b[31m187.4 MB/s\u001b[0m eta \u001b[36m0:00:00\u001b[0m00:01\u001b[0m00:01\u001b[0m\n",
      "\u001b[?25hCollecting boto3\n",
      "  Downloading boto3-1.34.51-py3-none-any.whl (139 kB)\n",
      "\u001b[2K     \u001b[90m━━━━━━━━━━━━━━━━━━━━━━━━━━━━━━━━━━━━━\u001b[0m \u001b[32m139.3/139.3 kB\u001b[0m \u001b[31m275.1 MB/s\u001b[0m eta \u001b[36m0:00:00\u001b[0m\n",
      "\u001b[?25hCollecting tf2onnx\n",
      "  Downloading tf2onnx-1.16.1-py3-none-any.whl (455 kB)\n",
      "\u001b[2K     \u001b[90m━━━━━━━━━━━━━━━━━━━━━━━━━━━━━━━━━━━━━\u001b[0m \u001b[32m455.8/455.8 kB\u001b[0m \u001b[31m331.0 MB/s\u001b[0m eta \u001b[36m0:00:00\u001b[0m\n",
      "\u001b[?25hCollecting onnx\n",
      "  Downloading onnx-1.15.0-cp39-cp39-manylinux_2_17_x86_64.manylinux2014_x86_64.whl (15.7 MB)\n",
      "\u001b[2K     \u001b[90m━━━━━━━━━━━━━━━━━━━━━━━━━━━━━━━━━━━━━━━\u001b[0m \u001b[32m15.7/15.7 MB\u001b[0m \u001b[31m188.3 MB/s\u001b[0m eta \u001b[36m0:00:00\u001b[0ma \u001b[36m0:00:01\u001b[0m\n",
      "\u001b[?25hCollecting pandas_datareader==0.10.0\n",
      "  Downloading pandas_datareader-0.10.0-py3-none-any.whl (109 kB)\n",
      "\u001b[2K     \u001b[90m━━━━━━━━━━━━━━━━━━━━━━━━━━━━━━━━━━━━━\u001b[0m \u001b[32m109.5/109.5 kB\u001b[0m \u001b[31m297.1 MB/s\u001b[0m eta \u001b[36m0:00:00\u001b[0m\n",
      "\u001b[?25hCollecting yfinance\n",
      "  Downloading yfinance-0.2.37-py2.py3-none-any.whl (72 kB)\n",
      "\u001b[2K     \u001b[90m━━━━━━━━━━━━━━━━━━━━━━━━━━━━━━━━━━━━━━━\u001b[0m \u001b[32m73.0/73.0 kB\u001b[0m \u001b[31m225.1 MB/s\u001b[0m eta \u001b[36m0:00:00\u001b[0m\n",
      "\u001b[?25hRequirement already satisfied: requests>=2.19.0 in /opt/app-root/lib/python3.9/site-packages (from pandas_datareader==0.10.0->-r ../requirements.txt (line 12)) (2.31.0)\n",
      "Collecting lxml\n",
      "  Downloading lxml-5.1.0-cp39-cp39-manylinux_2_17_x86_64.manylinux2014_x86_64.whl (8.0 MB)\n",
      "\u001b[2K     \u001b[90m━━━━━━━━━━━━━━━━━━━━━━━━━━━━━━━━━━━━━━━━\u001b[0m \u001b[32m8.0/8.0 MB\u001b[0m \u001b[31m193.3 MB/s\u001b[0m eta \u001b[36m0:00:00\u001b[0ma \u001b[36m0:00:01\u001b[0m\n",
      "\u001b[?25hRequirement already satisfied: Jinja2>=3.1.2 in /opt/app-root/lib/python3.9/site-packages (from Flask->-r ../requirements.txt (line 1)) (3.1.2)\n",
      "Collecting itsdangerous>=2.1.2\n",
      "  Downloading itsdangerous-2.1.2-py3-none-any.whl (15 kB)\n",
      "Collecting click>=8.1.3\n",
      "  Downloading click-8.1.7-py3-none-any.whl (97 kB)\n",
      "\u001b[2K     \u001b[90m━━━━━━━━━━━━━━━━━━━━━━━━━━━━━━━━━━━━━━━\u001b[0m \u001b[32m97.9/97.9 kB\u001b[0m \u001b[31m263.0 MB/s\u001b[0m eta \u001b[36m0:00:00\u001b[0m\n",
      "\u001b[?25hRequirement already satisfied: importlib-metadata>=3.6.0 in /opt/app-root/lib/python3.9/site-packages (from Flask->-r ../requirements.txt (line 1)) (6.8.0)\n",
      "Collecting blinker>=1.6.2\n",
      "  Downloading blinker-1.7.0-py3-none-any.whl (13 kB)\n",
      "Collecting Werkzeug>=3.0.0\n",
      "  Downloading werkzeug-3.0.1-py3-none-any.whl (226 kB)\n",
      "\u001b[2K     \u001b[90m━━━━━━━━━━━━━━━━━━━━━━━━━━━━━━━━━━━━━\u001b[0m \u001b[32m226.7/226.7 kB\u001b[0m \u001b[31m302.9 MB/s\u001b[0m eta \u001b[36m0:00:00\u001b[0m\n",
      "\u001b[?25hRequirement already satisfied: packaging in /opt/app-root/lib/python3.9/site-packages (from gunicorn->-r ../requirements.txt (line 2)) (23.2)\n",
      "Collecting pytz\n",
      "  Downloading pytz-2024.1-py2.py3-none-any.whl (505 kB)\n",
      "\u001b[2K     \u001b[90m━━━━━━━━━━━━━━━━━━━━━━━━━━━━━━━━━━━━━\u001b[0m \u001b[32m505.5/505.5 kB\u001b[0m \u001b[31m282.1 MB/s\u001b[0m eta \u001b[36m0:00:00\u001b[0m\n",
      "\u001b[?25hCollecting tzlocal\n",
      "  Downloading tzlocal-5.2-py3-none-any.whl (17 kB)\n",
      "Requirement already satisfied: python-dateutil in /opt/app-root/lib/python3.9/site-packages (from trino->-r ../requirements.txt (line 3)) (2.8.2)\n",
      "Collecting tzdata>=2022.7\n",
      "  Downloading tzdata-2024.1-py2.py3-none-any.whl (345 kB)\n",
      "\u001b[2K     \u001b[90m━━━━━━━━━━━━━━━━━━━━━━━━━━━━━━━━━━━━━\u001b[0m \u001b[32m345.4/345.4 kB\u001b[0m \u001b[31m333.6 MB/s\u001b[0m eta \u001b[36m0:00:00\u001b[0m\n",
      "\u001b[?25hCollecting cycler>=0.10\n",
      "  Downloading cycler-0.12.1-py3-none-any.whl (8.3 kB)\n",
      "Collecting importlib-resources>=3.2.0\n",
      "  Downloading importlib_resources-6.1.2-py3-none-any.whl (34 kB)\n",
      "Collecting contourpy>=1.0.1\n",
      "  Downloading contourpy-1.2.0-cp39-cp39-manylinux_2_17_x86_64.manylinux2014_x86_64.whl (310 kB)\n",
      "\u001b[2K     \u001b[90m━━━━━━━━━━━━━━━━━━━━━━━━━━━━━━━━━━━━━\u001b[0m \u001b[32m311.0/311.0 kB\u001b[0m \u001b[31m317.5 MB/s\u001b[0m eta \u001b[36m0:00:00\u001b[0m\n",
      "\u001b[?25hCollecting pillow>=8\n",
      "  Downloading pillow-10.2.0-cp39-cp39-manylinux_2_28_x86_64.whl (4.5 MB)\n",
      "\u001b[2K     \u001b[90m━━━━━━━━━━━━━━━━━━━━━━━━━━━━━━━━━━━━━━━━\u001b[0m \u001b[32m4.5/4.5 MB\u001b[0m \u001b[31m190.5 MB/s\u001b[0m eta \u001b[36m0:00:00\u001b[0m\n",
      "\u001b[?25hCollecting pyparsing>=2.3.1\n",
      "  Downloading pyparsing-3.1.1-py3-none-any.whl (103 kB)\n",
      "\u001b[2K     \u001b[90m━━━━━━━━━━━━━━━━━━━━━━━━━━━━━━━━━━━━━\u001b[0m \u001b[32m103.1/103.1 kB\u001b[0m \u001b[31m281.1 MB/s\u001b[0m eta \u001b[36m0:00:00\u001b[0m\n",
      "\u001b[?25hCollecting kiwisolver>=1.3.1\n",
      "  Downloading kiwisolver-1.4.5-cp39-cp39-manylinux_2_12_x86_64.manylinux2010_x86_64.whl (1.6 MB)\n",
      "\u001b[2K     \u001b[90m━━━━━━━━━━━━━━━━━━━━━━━━━━━━━━━━━━━━━━━━\u001b[0m \u001b[32m1.6/1.6 MB\u001b[0m \u001b[31m254.6 MB/s\u001b[0m eta \u001b[36m0:00:00\u001b[0m\n",
      "\u001b[?25hCollecting fonttools>=4.22.0\n",
      "  Downloading fonttools-4.49.0-cp39-cp39-manylinux_2_17_x86_64.manylinux2014_x86_64.whl (4.6 MB)\n",
      "\u001b[2K     \u001b[90m━━━━━━━━━━━━━━━━━━━━━━━━━━━━━━━━━━━━━━━━\u001b[0m \u001b[32m4.6/4.6 MB\u001b[0m \u001b[31m180.5 MB/s\u001b[0m eta \u001b[36m0:00:00\u001b[0m\n",
      "\u001b[?25hCollecting joblib>=1.2.0\n",
      "  Downloading joblib-1.3.2-py3-none-any.whl (302 kB)\n",
      "\u001b[2K     \u001b[90m━━━━━━━━━━━━━━━━━━━━━━━━━━━━━━━━━━━━━\u001b[0m \u001b[32m302.2/302.2 kB\u001b[0m \u001b[31m325.4 MB/s\u001b[0m eta \u001b[36m0:00:00\u001b[0m\n",
      "\u001b[?25hCollecting threadpoolctl>=2.0.0\n",
      "  Downloading threadpoolctl-3.3.0-py3-none-any.whl (17 kB)\n",
      "Collecting scipy>=1.6.0\n",
      "  Downloading scipy-1.12.0-cp39-cp39-manylinux_2_17_x86_64.manylinux2014_x86_64.whl (38.5 MB)\n",
      "\u001b[2K     \u001b[90m━━━━━━━━━━━━━━━━━━━━━━━━━━━━━━━━━━━━━━━\u001b[0m \u001b[32m38.5/38.5 MB\u001b[0m \u001b[31m192.2 MB/s\u001b[0m eta \u001b[36m0:00:00\u001b[0ma \u001b[36m0:00:01\u001b[0m\n",
      "\u001b[?25hCollecting gast!=0.5.0,!=0.5.1,!=0.5.2,>=0.2.1\n",
      "  Downloading gast-0.5.4-py3-none-any.whl (19 kB)\n",
      "Collecting flatbuffers>=23.5.26\n",
      "  Downloading flatbuffers-23.5.26-py2.py3-none-any.whl (26 kB)\n",
      "Collecting termcolor>=1.1.0\n",
      "  Downloading termcolor-2.4.0-py3-none-any.whl (7.7 kB)\n",
      "Collecting astunparse>=1.6.0\n",
      "  Downloading astunparse-1.6.3-py2.py3-none-any.whl (12 kB)\n",
      "Collecting wrapt<1.15,>=1.11.0\n",
      "  Downloading wrapt-1.14.1-cp39-cp39-manylinux_2_5_x86_64.manylinux1_x86_64.manylinux_2_17_x86_64.manylinux2014_x86_64.whl (77 kB)\n",
      "\u001b[2K     \u001b[90m━━━━━━━━━━━━━━━━━━━━━━━━━━━━━━━━━━━━━━━\u001b[0m \u001b[32m77.8/77.8 kB\u001b[0m \u001b[31m236.6 MB/s\u001b[0m eta \u001b[36m0:00:00\u001b[0m\n",
      "\u001b[?25hCollecting grpcio<2.0,>=1.24.3\n",
      "  Downloading grpcio-1.62.0-cp39-cp39-manylinux_2_17_x86_64.manylinux2014_x86_64.whl (5.6 MB)\n",
      "\u001b[2K     \u001b[90m━━━━━━━━━━━━━━━━━━━━━━━━━━━━━━━━━━━━━━━━\u001b[0m \u001b[32m5.6/5.6 MB\u001b[0m \u001b[31m182.0 MB/s\u001b[0m eta \u001b[36m0:00:00\u001b[0m\n",
      "\u001b[?25hCollecting tensorboard<2.16,>=2.15\n",
      "  Downloading tensorboard-2.15.2-py3-none-any.whl (5.5 MB)\n",
      "\u001b[2K     \u001b[90m━━━━━━━━━━━━━━━━━━━━━━━━━━━━━━━━━━━━━━━━\u001b[0m \u001b[32m5.5/5.5 MB\u001b[0m \u001b[31m190.0 MB/s\u001b[0m eta \u001b[36m0:00:00\u001b[0m\n",
      "\u001b[?25hCollecting h5py>=2.9.0\n",
      "  Downloading h5py-3.10.0-cp39-cp39-manylinux_2_17_x86_64.manylinux2014_x86_64.whl (4.8 MB)\n",
      "\u001b[2K     \u001b[90m━━━━━━━━━━━━━━━━━━━━━━━━━━━━━━━━━━━━━━━━\u001b[0m \u001b[32m4.8/4.8 MB\u001b[0m \u001b[31m195.5 MB/s\u001b[0m eta \u001b[36m0:00:00\u001b[0m\n",
      "\u001b[?25hCollecting keras<2.16,>=2.15.0\n",
      "  Downloading keras-2.15.0-py3-none-any.whl (1.7 MB)\n",
      "\u001b[2K     \u001b[90m━━━━━━━━━━━━━━━━━━━━━━━━━━━━━━━━━━━━━━━━\u001b[0m \u001b[32m1.7/1.7 MB\u001b[0m \u001b[31m287.6 MB/s\u001b[0m eta \u001b[36m0:00:00\u001b[0m\n",
      "\u001b[?25hCollecting google-pasta>=0.1.1\n",
      "  Downloading google_pasta-0.2.0-py3-none-any.whl (57 kB)\n",
      "\u001b[2K     \u001b[90m━━━━━━━━━━━━━━━━━━━━━━━━━━━━━━━━━━━━━━━\u001b[0m \u001b[32m57.5/57.5 kB\u001b[0m \u001b[31m248.8 MB/s\u001b[0m eta \u001b[36m0:00:00\u001b[0m\n",
      "\u001b[?25hCollecting tensorflow-io-gcs-filesystem>=0.23.1\n",
      "  Downloading tensorflow_io_gcs_filesystem-0.36.0-cp39-cp39-manylinux_2_17_x86_64.manylinux2014_x86_64.whl (5.1 MB)\n",
      "\u001b[2K     \u001b[90m━━━━━━━━━━━━━━━━━━━━━━━━━━━━━━━━━━━━━━━━\u001b[0m \u001b[32m5.1/5.1 MB\u001b[0m \u001b[31m180.0 MB/s\u001b[0m eta \u001b[36m0:00:00\u001b[0m\n",
      "\u001b[?25hCollecting tensorflow-estimator<2.16,>=2.15.0\n",
      "  Downloading tensorflow_estimator-2.15.0-py2.py3-none-any.whl (441 kB)\n",
      "\u001b[2K     \u001b[90m━━━━━━━━━━━━━━━━━━━━━━━━━━━━━━━━━━━━━\u001b[0m \u001b[32m442.0/442.0 kB\u001b[0m \u001b[31m333.0 MB/s\u001b[0m eta \u001b[36m0:00:00\u001b[0m\n",
      "\u001b[?25hCollecting absl-py>=1.0.0\n",
      "  Downloading absl_py-2.1.0-py3-none-any.whl (133 kB)\n",
      "\u001b[2K     \u001b[90m━━━━━━━━━━━━━━━━━━━━━━━━━━━━━━━━━━━━━\u001b[0m \u001b[32m133.7/133.7 kB\u001b[0m \u001b[31m270.2 MB/s\u001b[0m eta \u001b[36m0:00:00\u001b[0m\n",
      "\u001b[?25hCollecting opt-einsum>=2.3.2\n",
      "  Downloading opt_einsum-3.3.0-py3-none-any.whl (65 kB)\n",
      "\u001b[2K     \u001b[90m━━━━━━━━━━━━━━━━━━━━━━━━━━━━━━━━━━━━━━━\u001b[0m \u001b[32m65.5/65.5 kB\u001b[0m \u001b[31m260.8 MB/s\u001b[0m eta \u001b[36m0:00:00\u001b[0m\n",
      "\u001b[?25hCollecting libclang>=13.0.0\n",
      "  Downloading libclang-16.0.6-py2.py3-none-manylinux2010_x86_64.whl (22.9 MB)\n",
      "\u001b[2K     \u001b[90m━━━━━━━━━━━━━━━━━━━━━━━━━━━━━━━━━━━━━━━\u001b[0m \u001b[32m22.9/22.9 MB\u001b[0m \u001b[31m194.1 MB/s\u001b[0m eta \u001b[36m0:00:00\u001b[0ma \u001b[36m0:00:01\u001b[0m\n",
      "\u001b[?25hCollecting protobuf!=4.21.0,!=4.21.1,!=4.21.2,!=4.21.3,!=4.21.4,!=4.21.5,<5.0.0dev,>=3.20.3\n",
      "  Downloading protobuf-4.25.3-cp37-abi3-manylinux2014_x86_64.whl (294 kB)\n",
      "\u001b[2K     \u001b[90m━━━━━━━━━━━━━━━━━━━━━━━━━━━━━━━━━━━━━\u001b[0m \u001b[32m294.6/294.6 kB\u001b[0m \u001b[31m328.0 MB/s\u001b[0m eta \u001b[36m0:00:00\u001b[0m\n",
      "\u001b[?25hCollecting ml-dtypes~=0.2.0\n",
      "  Downloading ml_dtypes-0.2.0-cp39-cp39-manylinux_2_17_x86_64.manylinux2014_x86_64.whl (1.0 MB)\n",
      "\u001b[2K     \u001b[90m━━━━━━━━━━━━━━━━━━━━━━━━━━━━━━━━━━━━━━━━\u001b[0m \u001b[32m1.0/1.0 MB\u001b[0m \u001b[31m269.9 MB/s\u001b[0m eta \u001b[36m0:00:00\u001b[0m\n",
      "\u001b[?25hRequirement already satisfied: setuptools in /opt/app-root/lib/python3.9/site-packages (from tensorflow->-r ../requirements.txt (line 8)) (53.0.0)\n",
      "Requirement already satisfied: six>=1.12.0 in /opt/app-root/lib/python3.9/site-packages (from tensorflow->-r ../requirements.txt (line 8)) (1.16.0)\n",
      "Requirement already satisfied: typing-extensions>=3.6.6 in /opt/app-root/lib/python3.9/site-packages (from tensorflow->-r ../requirements.txt (line 8)) (4.8.0)\n",
      "Collecting botocore<1.35.0,>=1.34.51\n",
      "  Downloading botocore-1.34.51-py3-none-any.whl (12.0 MB)\n",
      "\u001b[2K     \u001b[90m━━━━━━━━━━━━━━━━━━━━━━━━━━━━━━━━━━━━━━━\u001b[0m \u001b[32m12.0/12.0 MB\u001b[0m \u001b[31m157.1 MB/s\u001b[0m eta \u001b[36m0:00:00\u001b[0ma \u001b[36m0:00:01\u001b[0m\n",
      "\u001b[?25hCollecting s3transfer<0.11.0,>=0.10.0\n",
      "  Downloading s3transfer-0.10.0-py3-none-any.whl (82 kB)\n",
      "\u001b[2K     \u001b[90m━━━━━━━━━━━━━━━━━━━━━━━━━━━━━━━━━━━━━━━\u001b[0m \u001b[32m82.1/82.1 kB\u001b[0m \u001b[31m244.4 MB/s\u001b[0m eta \u001b[36m0:00:00\u001b[0m\n",
      "\u001b[?25hCollecting jmespath<2.0.0,>=0.7.1\n",
      "  Downloading jmespath-1.0.1-py3-none-any.whl (20 kB)\n",
      "Collecting protobuf!=4.21.0,!=4.21.1,!=4.21.2,!=4.21.3,!=4.21.4,!=4.21.5,<5.0.0dev,>=3.20.3\n",
      "  Downloading protobuf-3.20.3-cp39-cp39-manylinux_2_5_x86_64.manylinux1_x86_64.whl (1.0 MB)\n",
      "\u001b[2K     \u001b[90m━━━━━━━━━━━━━━━━━━━━━━━━━━━━━━━━━━━━━━━━\u001b[0m \u001b[32m1.0/1.0 MB\u001b[0m \u001b[31m212.7 MB/s\u001b[0m eta \u001b[36m0:00:00\u001b[0m\n",
      "\u001b[?25hRequirement already satisfied: beautifulsoup4>=4.11.1 in /opt/app-root/lib/python3.9/site-packages (from yfinance->-r ../requirements.txt (line 13)) (4.12.2)\n",
      "Collecting html5lib>=1.1\n",
      "  Downloading html5lib-1.1-py2.py3-none-any.whl (112 kB)\n",
      "\u001b[2K     \u001b[90m━━━━━━━━━━━━━━━━━━━━━━━━━━━━━━━━━━━━━\u001b[0m \u001b[32m112.2/112.2 kB\u001b[0m \u001b[31m270.3 MB/s\u001b[0m eta \u001b[36m0:00:00\u001b[0m\n",
      "\u001b[?25hCollecting multitasking>=0.0.7\n",
      "  Downloading multitasking-0.0.11-py3-none-any.whl (8.5 kB)\n",
      "Collecting peewee>=3.16.2\n",
      "  Downloading peewee-3.17.1.tar.gz (3.0 MB)\n",
      "\u001b[2K     \u001b[90m━━━━━━━━━━━━━━━━━━━━━━━━━━━━━━━━━━━━━━━━\u001b[0m \u001b[32m3.0/3.0 MB\u001b[0m \u001b[31m172.2 MB/s\u001b[0m eta \u001b[36m0:00:00\u001b[0m\n",
      "\u001b[?25h  Installing build dependencies ... \u001b[?25ldone\n",
      "\u001b[?25h  Getting requirements to build wheel ... \u001b[?25ldone\n",
      "\u001b[?25h  Preparing metadata (pyproject.toml) ... \u001b[?25ldone\n",
      "\u001b[?25hCollecting frozendict>=2.3.4\n",
      "  Downloading frozendict-2.4.0-cp39-cp39-manylinux_2_17_x86_64.manylinux2014_x86_64.whl (116 kB)\n",
      "\u001b[2K     \u001b[90m━━━━━━━━━━━━━━━━━━━━━━━━━━━━━━━━━━━━━\u001b[0m \u001b[32m116.2/116.2 kB\u001b[0m \u001b[31m289.2 MB/s\u001b[0m eta \u001b[36m0:00:00\u001b[0m\n",
      "\u001b[?25hCollecting appdirs>=1.4.4\n",
      "  Downloading appdirs-1.4.4-py2.py3-none-any.whl (9.6 kB)\n",
      "Requirement already satisfied: wheel<1.0,>=0.23.0 in /opt/app-root/lib/python3.9/site-packages (from astunparse>=1.6.0->tensorflow->-r ../requirements.txt (line 8)) (0.38.4)\n",
      "Requirement already satisfied: soupsieve>1.2 in /opt/app-root/lib/python3.9/site-packages (from beautifulsoup4>=4.11.1->yfinance->-r ../requirements.txt (line 13)) (2.5)\n",
      "Collecting urllib3<1.27,>=1.25.4\n",
      "  Downloading urllib3-1.26.18-py2.py3-none-any.whl (143 kB)\n",
      "\u001b[2K     \u001b[90m━━━━━━━━━━━━━━━━━━━━━━━━━━━━━━━━━━━━━\u001b[0m \u001b[32m143.8/143.8 kB\u001b[0m \u001b[31m300.7 MB/s\u001b[0m eta \u001b[36m0:00:00\u001b[0m\n",
      "\u001b[?25hRequirement already satisfied: webencodings in /opt/app-root/lib/python3.9/site-packages (from html5lib>=1.1->yfinance->-r ../requirements.txt (line 13)) (0.5.1)\n",
      "Requirement already satisfied: zipp>=0.5 in /opt/app-root/lib/python3.9/site-packages (from importlib-metadata>=3.6.0->Flask->-r ../requirements.txt (line 1)) (3.17.0)\n",
      "Requirement already satisfied: MarkupSafe>=2.0 in /opt/app-root/lib/python3.9/site-packages (from Jinja2>=3.1.2->Flask->-r ../requirements.txt (line 1)) (2.1.3)\n",
      "Requirement already satisfied: certifi>=2017.4.17 in /opt/app-root/lib/python3.9/site-packages (from requests>=2.19.0->pandas_datareader==0.10.0->-r ../requirements.txt (line 12)) (2023.7.22)\n",
      "Requirement already satisfied: charset-normalizer<4,>=2 in /opt/app-root/lib/python3.9/site-packages (from requests>=2.19.0->pandas_datareader==0.10.0->-r ../requirements.txt (line 12)) (3.3.2)\n",
      "Requirement already satisfied: idna<4,>=2.5 in /opt/app-root/lib/python3.9/site-packages (from requests>=2.19.0->pandas_datareader==0.10.0->-r ../requirements.txt (line 12)) (3.4)\n",
      "Collecting google-auth-oauthlib<2,>=0.5\n",
      "  Downloading google_auth_oauthlib-1.2.0-py2.py3-none-any.whl (24 kB)\n",
      "Collecting tensorboard-data-server<0.8.0,>=0.7.0\n",
      "  Downloading tensorboard_data_server-0.7.2-py3-none-manylinux_2_31_x86_64.whl (6.6 MB)\n",
      "\u001b[2K     \u001b[90m━━━━━━━━━━━━━━━━━━━━━━━━━━━━━━━━━━━━━━━━\u001b[0m \u001b[32m6.6/6.6 MB\u001b[0m \u001b[31m146.5 MB/s\u001b[0m eta \u001b[36m0:00:00\u001b[0ma \u001b[36m0:00:01\u001b[0m\n",
      "\u001b[?25hCollecting google-auth<3,>=1.6.3\n",
      "  Downloading google_auth-2.28.1-py2.py3-none-any.whl (186 kB)\n",
      "\u001b[2K     \u001b[90m━━━━━━━━━━━━━━━━━━━━━━━━━━━━━━━━━━━━━\u001b[0m \u001b[32m186.9/186.9 kB\u001b[0m \u001b[31m300.3 MB/s\u001b[0m eta \u001b[36m0:00:00\u001b[0m\n",
      "\u001b[?25hCollecting markdown>=2.6.8\n",
      "  Downloading Markdown-3.5.2-py3-none-any.whl (103 kB)\n",
      "\u001b[2K     \u001b[90m━━━━━━━━━━━━━━━━━━━━━━━━━━━━━━━━━━━━━\u001b[0m \u001b[32m103.9/103.9 kB\u001b[0m \u001b[31m258.2 MB/s\u001b[0m eta \u001b[36m0:00:00\u001b[0m\n",
      "\u001b[?25hCollecting rsa<5,>=3.1.4\n",
      "  Downloading rsa-4.9-py3-none-any.whl (34 kB)\n",
      "Collecting pyasn1-modules>=0.2.1\n",
      "  Downloading pyasn1_modules-0.3.0-py2.py3-none-any.whl (181 kB)\n",
      "\u001b[2K     \u001b[90m━━━━━━━━━━━━━━━━━━━━━━━━━━━━━━━━━━━━━\u001b[0m \u001b[32m181.3/181.3 kB\u001b[0m \u001b[31m281.8 MB/s\u001b[0m eta \u001b[36m0:00:00\u001b[0m\n",
      "\u001b[?25hCollecting cachetools<6.0,>=2.0.0\n",
      "  Downloading cachetools-5.3.3-py3-none-any.whl (9.3 kB)\n",
      "Collecting requests-oauthlib>=0.7.0\n",
      "  Downloading requests_oauthlib-1.3.1-py2.py3-none-any.whl (23 kB)\n",
      "Collecting pyasn1<0.6.0,>=0.4.6\n",
      "  Downloading pyasn1-0.5.1-py2.py3-none-any.whl (84 kB)\n",
      "\u001b[2K     \u001b[90m━━━━━━━━━━━━━━━━━━━━━━━━━━━━━━━━━━━━━━━\u001b[0m \u001b[32m84.9/84.9 kB\u001b[0m \u001b[31m269.4 MB/s\u001b[0m eta \u001b[36m0:00:00\u001b[0m\n",
      "\u001b[?25hCollecting oauthlib>=3.0.0\n",
      "  Downloading oauthlib-3.2.2-py3-none-any.whl (151 kB)\n",
      "\u001b[2K     \u001b[90m━━━━━━━━━━━━━━━━━━━━━━━━━━━━━━━━━━━━━\u001b[0m \u001b[32m151.7/151.7 kB\u001b[0m \u001b[31m288.5 MB/s\u001b[0m eta \u001b[36m0:00:00\u001b[0m\n",
      "\u001b[?25hBuilding wheels for collected packages: peewee\n",
      "  Building wheel for peewee (pyproject.toml) ... \u001b[?25ldone\n",
      "\u001b[?25h  Created wheel for peewee: filename=peewee-3.17.1-cp39-cp39-linux_x86_64.whl size=751135 sha256=fb073b2f299b3785f95c3f4d43af6b37e80dad0c2a141c07035245a1a85c9a86\n",
      "  Stored in directory: /tmp/pip-ephem-wheel-cache-ov9smy9f/wheels/77/ca/43/00120282a2aa9323dd8da301fb17ea79f84c35fc6faa9f94ea\n",
      "Successfully built peewee\n",
      "Installing collected packages: pytz, peewee, multitasking, libclang, flatbuffers, appdirs, wrapt, Werkzeug, urllib3, tzlocal, tzdata, threadpoolctl, termcolor, tensorflow-io-gcs-filesystem, tensorflow-estimator, tensorboard-data-server, pyparsing, pyasn1, protobuf, pillow, oauthlib, numpy, lxml, kiwisolver, keras, joblib, jmespath, itsdangerous, importlib-resources, html5lib, gunicorn, grpcio, google-pasta, gast, frozendict, fonttools, cycler, click, cachetools, blinker, astunparse, absl-py, scipy, rsa, pyasn1-modules, pandas, opt-einsum, onnx, ml-dtypes, markdown, h5py, Flask, contourpy, botocore, yfinance, trino, tf2onnx, scikit-learn, s3transfer, requests-oauthlib, pandas_datareader, matplotlib, google-auth, google-auth-oauthlib, boto3, tensorboard, tensorflow\n",
      "  Attempting uninstall: urllib3\n",
      "    Found existing installation: urllib3 2.0.7\n",
      "    Uninstalling urllib3-2.0.7:\n",
      "      Successfully uninstalled urllib3-2.0.7\n",
      "Successfully installed Flask-3.0.2 Werkzeug-3.0.1 absl-py-2.1.0 appdirs-1.4.4 astunparse-1.6.3 blinker-1.7.0 boto3-1.34.51 botocore-1.34.51 cachetools-5.3.3 click-8.1.7 contourpy-1.2.0 cycler-0.12.1 flatbuffers-23.5.26 fonttools-4.49.0 frozendict-2.4.0 gast-0.5.4 google-auth-2.28.1 google-auth-oauthlib-1.2.0 google-pasta-0.2.0 grpcio-1.62.0 gunicorn-21.2.0 h5py-3.10.0 html5lib-1.1 importlib-resources-6.1.2 itsdangerous-2.1.2 jmespath-1.0.1 joblib-1.3.2 keras-2.15.0 kiwisolver-1.4.5 libclang-16.0.6 lxml-5.1.0 markdown-3.5.2 matplotlib-3.8.3 ml-dtypes-0.2.0 multitasking-0.0.11 numpy-1.26.4 oauthlib-3.2.2 onnx-1.15.0 opt-einsum-3.3.0 pandas-2.2.1 pandas_datareader-0.10.0 peewee-3.17.1 pillow-10.2.0 protobuf-3.20.3 pyasn1-0.5.1 pyasn1-modules-0.3.0 pyparsing-3.1.1 pytz-2024.1 requests-oauthlib-1.3.1 rsa-4.9 s3transfer-0.10.0 scikit-learn-1.4.1.post1 scipy-1.12.0 tensorboard-2.15.2 tensorboard-data-server-0.7.2 tensorflow-2.15.0.post1 tensorflow-estimator-2.15.0 tensorflow-io-gcs-filesystem-0.36.0 termcolor-2.4.0 tf2onnx-1.16.1 threadpoolctl-3.3.0 trino-0.328.0 tzdata-2024.1 tzlocal-5.2 urllib3-1.26.18 wrapt-1.14.1 yfinance-0.2.37\n",
      "\n",
      "\u001b[1m[\u001b[0m\u001b[34;49mnotice\u001b[0m\u001b[1;39;49m]\u001b[0m\u001b[39;49m A new release of pip available: \u001b[0m\u001b[31;49m22.2.2\u001b[0m\u001b[39;49m -> \u001b[0m\u001b[32;49m24.0\u001b[0m\n",
      "\u001b[1m[\u001b[0m\u001b[34;49mnotice\u001b[0m\u001b[1;39;49m]\u001b[0m\u001b[39;49m To update, run: \u001b[0m\u001b[32;49mpip install --upgrade pip\u001b[0m\n"
     ]
    }
   ],
   "source": [
    "import sys\n",
    "!{sys.executable} -m pip install -r ../requirements.txt"
   ]
  },
  {
   "cell_type": "code",
   "execution_count": 28,
   "id": "6bba03a1-1678-45c9-aa32-28c6a63f9bc1",
   "metadata": {
    "tags": []
   },
   "outputs": [],
   "source": [
    "import boto3\n",
    "import matplotlib.pyplot as plt\n",
    "import pandas as pd\n",
    "from pandas_datareader import data as pdr\n",
    "import numpy as np\n",
    "from sklearn.preprocessing import MinMaxScaler\n",
    "from tensorflow import keras\n",
    "import tf2onnx\n",
    "import onnx\n",
    "import yfinance as yfin\n",
    "import time\n",
    "from keras.models import Sequential\n",
    "from keras.layers import Dense, LSTM, Dropout"
   ]
  },
  {
   "cell_type": "code",
   "execution_count": 19,
   "id": "6c98db3a-f0cd-44d7-ab56-e1470e65ffe9",
   "metadata": {
    "tags": []
   },
   "outputs": [
    {
     "name": "stderr",
     "output_type": "stream",
     "text": [
      "[*********************100%%**********************]  1 of 1 completed\n",
      "/tmp/ipykernel_127/3247426009.py:2: FutureWarning: Series.fillna with 'method' is deprecated and will raise in a future version. Use obj.ffill() or obj.bfill() instead.\n",
      "  y = df['Close'].fillna(method='ffill')\n"
     ]
    }
   ],
   "source": [
    "df = yfin.download(tickers=['AAPL'], period='1y')\n",
    "y = df['Close'].fillna(method='ffill')\n",
    "y = y.values.reshape(-1, 1)"
   ]
  },
  {
   "cell_type": "code",
   "execution_count": 20,
   "id": "36bb0ef6-fc92-44fc-9a18-b73a73220a19",
   "metadata": {
    "tags": []
   },
   "outputs": [
    {
     "data": {
      "text/plain": [
       "(251, 1)"
      ]
     },
     "execution_count": 20,
     "metadata": {},
     "output_type": "execute_result"
    }
   ],
   "source": [
    "\n",
    "#dataset_training = df['Close']\n",
    "y.shape"
   ]
  },
  {
   "cell_type": "code",
   "execution_count": 21,
   "id": "532b3b60-c96f-445c-ad1d-8251689d446a",
   "metadata": {
    "tags": []
   },
   "outputs": [],
   "source": [
    "scaler = MinMaxScaler(feature_range=(0, 1))\n",
    "scaler = scaler.fit(y)\n",
    "y = scaler.transform(y)"
   ]
  },
  {
   "cell_type": "code",
   "execution_count": 22,
   "id": "b6cec4d2-0325-49e4-834a-006a9fdfb682",
   "metadata": {},
   "outputs": [],
   "source": [
    "# generate the input and output sequences\n",
    "n_lookback = 60  # length of input sequences (lookback period)\n",
    "n_forecast = 30  # length of output sequences (forecast period)\n",
    "\n",
    "X = []\n",
    "Y = []\n",
    "\n",
    "for i in range(n_lookback, len(y) - n_forecast + 1):\n",
    "    X.append(y[i - n_lookback: i])\n",
    "    Y.append(y[i: i + n_forecast])"
   ]
  },
  {
   "cell_type": "code",
   "execution_count": 26,
   "id": "b07cf8c4-635f-40f0-9fab-c1c99c4f2607",
   "metadata": {},
   "outputs": [],
   "source": [
    "X = np.array(X)\n",
    "Y = np.array(Y)\n"
   ]
  },
  {
   "cell_type": "code",
   "execution_count": 29,
   "id": "af10773a-a5a5-4655-8ce1-56b18ddae8d4",
   "metadata": {
    "tags": []
   },
   "outputs": [],
   "source": [
    "# fit the model\n",
    "model = Sequential()\n",
    "model.add(LSTM(units=50, return_sequences=True, input_shape=(n_lookback, 1)))\n",
    "model.add(LSTM(units=50))\n",
    "model.add(Dense(n_forecast))"
   ]
  },
  {
   "cell_type": "code",
   "execution_count": 30,
   "id": "02c298c9-207b-4d03-9975-04bebd4ff587",
   "metadata": {
    "tags": []
   },
   "outputs": [
    {
     "data": {
      "text/plain": [
       "<keras.src.callbacks.History at 0x7fa1d06e9df0>"
      ]
     },
     "execution_count": 30,
     "metadata": {},
     "output_type": "execute_result"
    }
   ],
   "source": [
    "\n",
    "model.compile(loss='mean_squared_error', optimizer='adam')\n",
    "model.fit(X, Y, epochs=100, batch_size=32, verbose=0)"
   ]
  },
  {
   "cell_type": "code",
   "execution_count": 31,
   "id": "d097b6cf-cf93-4668-b490-c8efe53e5a8c",
   "metadata": {
    "tags": []
   },
   "outputs": [
    {
     "name": "stdout",
     "output_type": "stream",
     "text": [
      "1/1 [==============================] - 0s 436ms/step\n"
     ]
    }
   ],
   "source": [
    "# generate the forecasts\n",
    "X_ = y[- n_lookback:]  # last available input sequence\n",
    "X_ = X_.reshape(1, n_lookback, 1)\n",
    "\n",
    "Y_ = model.predict(X_).reshape(-1, 1)\n",
    "Y_ = scaler.inverse_transform(Y_)"
   ]
  },
  {
   "cell_type": "code",
   "execution_count": 32,
   "id": "fd5bf01f-1b37-4777-b153-a3ab6400de5b",
   "metadata": {
    "tags": []
   },
   "outputs": [
    {
     "name": "stderr",
     "output_type": "stream",
     "text": [
      "/tmp/ipykernel_127/3704570742.py:6: FutureWarning: ChainedAssignmentError: behaviour will change in pandas 3.0!\n",
      "You are setting values through chained assignment. Currently this works in certain cases, but when using Copy-on-Write (which will become the default behaviour in pandas 3.0) this will never work to update the original DataFrame or Series, because the intermediate object on which we are setting values will behave as a copy.\n",
      "A typical example is when you are setting values in a column of a DataFrame, like:\n",
      "\n",
      "df[\"col\"][row_indexer] = value\n",
      "\n",
      "Use `df.loc[row_indexer, \"col\"] = values` instead, to perform the assignment in a single step and ensure this keeps updating the original `df`.\n",
      "\n",
      "See the caveats in the documentation: https://pandas.pydata.org/pandas-docs/stable/user_guide/indexing.html#returning-a-view-versus-a-copy\n",
      "\n",
      "  df_past['Forecast'].iloc[-1] = df_past['Actual'].iloc[-1]\n",
      "/tmp/ipykernel_127/3704570742.py:6: SettingWithCopyWarning: \n",
      "A value is trying to be set on a copy of a slice from a DataFrame\n",
      "\n",
      "See the caveats in the documentation: https://pandas.pydata.org/pandas-docs/stable/user_guide/indexing.html#returning-a-view-versus-a-copy\n",
      "  df_past['Forecast'].iloc[-1] = df_past['Actual'].iloc[-1]\n"
     ]
    }
   ],
   "source": [
    "# organize the results in a data frame\n",
    "df_past = df[['Close']].reset_index()\n",
    "df_past.rename(columns={'index': 'Date', 'Close': 'Actual'}, inplace=True)\n",
    "df_past['Date'] = pd.to_datetime(df_past['Date'])\n",
    "df_past['Forecast'] = np.nan\n",
    "df_past['Forecast'].iloc[-1] = df_past['Actual'].iloc[-1]"
   ]
  },
  {
   "cell_type": "code",
   "execution_count": 33,
   "id": "ade67596-303b-4062-8da4-769b2c344439",
   "metadata": {
    "tags": []
   },
   "outputs": [],
   "source": [
    "\n",
    "df_future = pd.DataFrame(columns=['Date', 'Actual', 'Forecast'])\n",
    "df_future['Date'] = pd.date_range(start=df_past['Date'].iloc[-1] + pd.Timedelta(days=1), periods=n_forecast)\n",
    "df_future['Forecast'] = Y_.flatten()\n",
    "df_future['Actual'] = np.nan"
   ]
  },
  {
   "cell_type": "code",
   "execution_count": 35,
   "id": "b0ef9eca-a3ed-45cd-9809-882ab560dc65",
   "metadata": {
    "tags": []
   },
   "outputs": [
    {
     "ename": "TypeError",
     "evalue": "concat() takes 1 positional argument but 2 were given",
     "output_type": "error",
     "traceback": [
      "\u001b[0;31m---------------------------------------------------------------------------\u001b[0m",
      "\u001b[0;31mTypeError\u001b[0m                                 Traceback (most recent call last)",
      "Cell \u001b[0;32mIn[35], line 1\u001b[0m\n\u001b[0;32m----> 1\u001b[0m results \u001b[38;5;241m=\u001b[39m \u001b[43mpd\u001b[49m\u001b[38;5;241;43m.\u001b[39;49m\u001b[43mconcat\u001b[49m\u001b[43m(\u001b[49m\u001b[43mdf_past\u001b[49m\u001b[43m,\u001b[49m\u001b[43m \u001b[49m\u001b[43mdf_future\u001b[49m\u001b[43m)\u001b[49m\n\u001b[1;32m      2\u001b[0m results \u001b[38;5;241m=\u001b[39m results\u001b[38;5;241m.\u001b[39mset_index(\u001b[38;5;124m'\u001b[39m\u001b[38;5;124mDate\u001b[39m\u001b[38;5;124m'\u001b[39m)\n\u001b[1;32m      4\u001b[0m \u001b[38;5;66;03m# plot the results\u001b[39;00m\n",
      "\u001b[0;31mTypeError\u001b[0m: concat() takes 1 positional argument but 2 were given"
     ]
    }
   ],
   "source": [
    "results = pd.concat([df_past, df_future])\n",
    "results = results.set_index('Date')\n",
    "\n",
    "# plot the results\n",
    "results.plot(title='AAPL')\n"
   ]
  },
  {
   "cell_type": "code",
   "execution_count": 53,
   "id": "84b66730-309a-4cee-9595-9d5edb442e15",
   "metadata": {
    "tags": []
   },
   "outputs": [],
   "source": [
    "model.add(LSTM(units = 50, return_sequences = True, \\\n",
    "\n",
    "               input_shape = (x_train.shape[1], 1)))\n",
    "\n",
    "# Adding a second LSTM layer\n",
    "\n",
    "model.add(LSTM(units = 50, return_sequences = True))\n",
    "\n",
    "# Adding a third LSTM layer\n",
    "\n",
    "model.add(LSTM(units = 50, return_sequences = True))\n",
    "\n",
    "# Adding a fourth LSTM layer\n",
    "\n",
    "model.add(LSTM(units = 50))\n",
    "\n",
    "# Adding the output layer\n",
    "\n",
    "model.add(Dense(units = 1))\n",
    "    "
   ]
  },
  {
   "cell_type": "code",
   "execution_count": 54,
   "id": "c0f3f728-eb5d-4266-8043-84b971207653",
   "metadata": {
    "tags": []
   },
   "outputs": [
    {
     "name": "stdout",
     "output_type": "stream",
     "text": [
      "Epoch 1/100\n",
      "38/38 [==============================] - 6s 53ms/step - loss: 0.0308\n",
      "Epoch 2/100\n",
      "38/38 [==============================] - 2s 51ms/step - loss: 0.0071\n",
      "Epoch 3/100\n",
      "38/38 [==============================] - 2s 51ms/step - loss: 0.0060\n",
      "Epoch 4/100\n",
      "38/38 [==============================] - 2s 50ms/step - loss: 0.0052\n",
      "Epoch 5/100\n",
      "38/38 [==============================] - 2s 49ms/step - loss: 0.0046\n",
      "Epoch 6/100\n",
      "38/38 [==============================] - 2s 51ms/step - loss: 0.0040\n",
      "Epoch 7/100\n",
      "38/38 [==============================] - 2s 50ms/step - loss: 0.0038\n",
      "Epoch 8/100\n",
      "38/38 [==============================] - 2s 50ms/step - loss: 0.0034\n",
      "Epoch 9/100\n",
      "38/38 [==============================] - 2s 49ms/step - loss: 0.0031\n",
      "Epoch 10/100\n",
      "38/38 [==============================] - 2s 49ms/step - loss: 0.0026\n",
      "Epoch 11/100\n",
      "38/38 [==============================] - 2s 50ms/step - loss: 0.0025\n",
      "Epoch 12/100\n",
      "38/38 [==============================] - 2s 50ms/step - loss: 0.0023\n",
      "Epoch 13/100\n",
      "38/38 [==============================] - 2s 49ms/step - loss: 0.0023\n",
      "Epoch 14/100\n",
      "38/38 [==============================] - 2s 49ms/step - loss: 0.0020\n",
      "Epoch 15/100\n",
      "38/38 [==============================] - 2s 50ms/step - loss: 0.0024\n",
      "Epoch 16/100\n",
      "38/38 [==============================] - 2s 50ms/step - loss: 0.0021\n",
      "Epoch 17/100\n",
      "38/38 [==============================] - 2s 51ms/step - loss: 0.0017\n",
      "Epoch 18/100\n",
      "38/38 [==============================] - 2s 50ms/step - loss: 0.0017\n",
      "Epoch 19/100\n",
      "38/38 [==============================] - 2s 51ms/step - loss: 0.0018\n",
      "Epoch 20/100\n",
      "38/38 [==============================] - 2s 50ms/step - loss: 0.0015\n",
      "Epoch 21/100\n",
      "38/38 [==============================] - 2s 49ms/step - loss: 0.0014\n",
      "Epoch 22/100\n",
      "38/38 [==============================] - 2s 50ms/step - loss: 0.0013\n",
      "Epoch 23/100\n",
      "38/38 [==============================] - 2s 50ms/step - loss: 0.0013\n",
      "Epoch 24/100\n",
      "38/38 [==============================] - 2s 51ms/step - loss: 0.0013\n",
      "Epoch 25/100\n",
      "38/38 [==============================] - 2s 50ms/step - loss: 0.0011\n",
      "Epoch 26/100\n",
      "38/38 [==============================] - 2s 51ms/step - loss: 9.9446e-04\n",
      "Epoch 27/100\n",
      "38/38 [==============================] - 2s 50ms/step - loss: 9.1500e-04\n",
      "Epoch 28/100\n",
      "38/38 [==============================] - 2s 49ms/step - loss: 0.0011\n",
      "Epoch 29/100\n",
      "38/38 [==============================] - 2s 50ms/step - loss: 8.6371e-04\n",
      "Epoch 30/100\n",
      "38/38 [==============================] - 2s 50ms/step - loss: 7.8695e-04\n",
      "Epoch 31/100\n",
      "38/38 [==============================] - 2s 50ms/step - loss: 0.0011\n",
      "Epoch 32/100\n",
      "38/38 [==============================] - 2s 50ms/step - loss: 8.6781e-04\n",
      "Epoch 33/100\n",
      "38/38 [==============================] - 2s 50ms/step - loss: 7.6311e-04\n",
      "Epoch 34/100\n",
      "38/38 [==============================] - 2s 49ms/step - loss: 7.5144e-04\n",
      "Epoch 35/100\n",
      "38/38 [==============================] - 2s 49ms/step - loss: 8.1120e-04\n",
      "Epoch 36/100\n",
      "38/38 [==============================] - 2s 49ms/step - loss: 6.6295e-04\n",
      "Epoch 37/100\n",
      "38/38 [==============================] - 2s 50ms/step - loss: 6.4343e-04\n",
      "Epoch 38/100\n",
      "38/38 [==============================] - 2s 50ms/step - loss: 7.7214e-04\n",
      "Epoch 39/100\n",
      "38/38 [==============================] - 2s 50ms/step - loss: 7.3007e-04\n",
      "Epoch 40/100\n",
      "38/38 [==============================] - 2s 50ms/step - loss: 6.6435e-04\n",
      "Epoch 41/100\n",
      "38/38 [==============================] - 2s 50ms/step - loss: 6.6742e-04\n",
      "Epoch 42/100\n",
      "38/38 [==============================] - 2s 49ms/step - loss: 6.1382e-04\n",
      "Epoch 43/100\n",
      "38/38 [==============================] - 2s 50ms/step - loss: 7.6771e-04\n",
      "Epoch 44/100\n",
      "38/38 [==============================] - 2s 49ms/step - loss: 6.2210e-04\n",
      "Epoch 45/100\n",
      "38/38 [==============================] - 2s 50ms/step - loss: 6.1653e-04\n",
      "Epoch 46/100\n",
      "38/38 [==============================] - 2s 50ms/step - loss: 8.4240e-04\n",
      "Epoch 47/100\n",
      "38/38 [==============================] - 2s 50ms/step - loss: 6.0891e-04\n",
      "Epoch 48/100\n",
      "38/38 [==============================] - 2s 51ms/step - loss: 6.4131e-04\n",
      "Epoch 49/100\n",
      "38/38 [==============================] - 2s 49ms/step - loss: 6.5508e-04\n",
      "Epoch 50/100\n",
      "38/38 [==============================] - 2s 49ms/step - loss: 6.0678e-04\n",
      "Epoch 51/100\n",
      "38/38 [==============================] - 2s 49ms/step - loss: 6.1308e-04\n",
      "Epoch 52/100\n",
      "38/38 [==============================] - 2s 49ms/step - loss: 7.3980e-04\n",
      "Epoch 53/100\n",
      "38/38 [==============================] - 2s 50ms/step - loss: 7.9461e-04\n",
      "Epoch 54/100\n",
      "38/38 [==============================] - 2s 50ms/step - loss: 7.0736e-04\n",
      "Epoch 55/100\n",
      "38/38 [==============================] - 2s 50ms/step - loss: 6.3472e-04\n",
      "Epoch 56/100\n",
      "38/38 [==============================] - 2s 50ms/step - loss: 6.1099e-04\n",
      "Epoch 57/100\n",
      "38/38 [==============================] - 2s 51ms/step - loss: 6.0585e-04\n",
      "Epoch 58/100\n",
      "38/38 [==============================] - 2s 50ms/step - loss: 5.8567e-04\n",
      "Epoch 59/100\n",
      "38/38 [==============================] - 2s 50ms/step - loss: 5.9309e-04\n",
      "Epoch 60/100\n",
      "38/38 [==============================] - 2s 49ms/step - loss: 6.9904e-04\n",
      "Epoch 61/100\n",
      "38/38 [==============================] - 2s 50ms/step - loss: 7.1443e-04\n",
      "Epoch 62/100\n",
      "38/38 [==============================] - 2s 51ms/step - loss: 6.0946e-04\n",
      "Epoch 63/100\n",
      "38/38 [==============================] - 2s 49ms/step - loss: 6.4694e-04\n",
      "Epoch 64/100\n",
      "38/38 [==============================] - 2s 49ms/step - loss: 5.7767e-04\n",
      "Epoch 65/100\n",
      "38/38 [==============================] - 2s 49ms/step - loss: 5.6422e-04\n",
      "Epoch 66/100\n",
      "38/38 [==============================] - 2s 50ms/step - loss: 5.9271e-04\n",
      "Epoch 67/100\n",
      "38/38 [==============================] - 2s 50ms/step - loss: 6.1498e-04\n",
      "Epoch 68/100\n",
      "38/38 [==============================] - 2s 51ms/step - loss: 6.3316e-04\n",
      "Epoch 69/100\n",
      "38/38 [==============================] - 2s 50ms/step - loss: 5.8935e-04\n",
      "Epoch 70/100\n",
      "38/38 [==============================] - 2s 49ms/step - loss: 7.5583e-04\n",
      "Epoch 71/100\n",
      "38/38 [==============================] - 2s 50ms/step - loss: 6.4211e-04\n",
      "Epoch 72/100\n",
      "38/38 [==============================] - 2s 49ms/step - loss: 6.3721e-04\n",
      "Epoch 73/100\n",
      "38/38 [==============================] - 2s 50ms/step - loss: 6.4523e-04\n",
      "Epoch 74/100\n",
      "38/38 [==============================] - 2s 50ms/step - loss: 5.9675e-04\n",
      "Epoch 75/100\n",
      "38/38 [==============================] - 2s 49ms/step - loss: 6.0077e-04\n",
      "Epoch 76/100\n",
      "38/38 [==============================] - 2s 49ms/step - loss: 5.7708e-04\n",
      "Epoch 77/100\n",
      "38/38 [==============================] - 2s 50ms/step - loss: 5.7466e-04\n",
      "Epoch 78/100\n",
      "38/38 [==============================] - 2s 50ms/step - loss: 6.1112e-04\n",
      "Epoch 79/100\n",
      "38/38 [==============================] - 2s 50ms/step - loss: 6.2754e-04\n",
      "Epoch 80/100\n",
      "38/38 [==============================] - 2s 50ms/step - loss: 6.1646e-04\n",
      "Epoch 81/100\n",
      "38/38 [==============================] - 2s 50ms/step - loss: 7.6620e-04\n",
      "Epoch 82/100\n",
      "38/38 [==============================] - 2s 51ms/step - loss: 5.9947e-04\n",
      "Epoch 83/100\n",
      "38/38 [==============================] - 2s 51ms/step - loss: 5.9064e-04\n",
      "Epoch 84/100\n",
      "38/38 [==============================] - 2s 51ms/step - loss: 5.5671e-04\n",
      "Epoch 85/100\n",
      "38/38 [==============================] - 2s 51ms/step - loss: 5.5135e-04\n",
      "Epoch 86/100\n",
      "38/38 [==============================] - 2s 49ms/step - loss: 5.9081e-04\n",
      "Epoch 87/100\n",
      "38/38 [==============================] - 2s 50ms/step - loss: 6.4885e-04\n",
      "Epoch 88/100\n",
      "38/38 [==============================] - 2s 49ms/step - loss: 5.5192e-04\n",
      "Epoch 89/100\n",
      "38/38 [==============================] - 2s 50ms/step - loss: 5.6415e-04\n",
      "Epoch 90/100\n",
      "38/38 [==============================] - 2s 50ms/step - loss: 5.6272e-04\n",
      "Epoch 91/100\n",
      "38/38 [==============================] - 2s 50ms/step - loss: 6.2532e-04\n",
      "Epoch 92/100\n",
      "38/38 [==============================] - 2s 49ms/step - loss: 5.5283e-04\n",
      "Epoch 93/100\n",
      "38/38 [==============================] - 2s 50ms/step - loss: 5.5859e-04\n",
      "Epoch 94/100\n",
      "38/38 [==============================] - 2s 49ms/step - loss: 6.4921e-04\n",
      "Epoch 95/100\n",
      "38/38 [==============================] - 2s 50ms/step - loss: 5.7506e-04\n",
      "Epoch 96/100\n",
      "38/38 [==============================] - 2s 49ms/step - loss: 6.1441e-04\n",
      "Epoch 97/100\n",
      "38/38 [==============================] - 2s 50ms/step - loss: 5.6740e-04\n",
      "Epoch 98/100\n",
      "38/38 [==============================] - 2s 50ms/step - loss: 5.8661e-04\n",
      "Epoch 99/100\n",
      "38/38 [==============================] - 2s 50ms/step - loss: 5.6872e-04\n",
      "Epoch 100/100\n",
      "38/38 [==============================] - 2s 49ms/step - loss: 5.8528e-04\n"
     ]
    },
    {
     "data": {
      "text/plain": [
       "<keras.src.callbacks.History at 0x7fe33845aa90>"
      ]
     },
     "execution_count": 54,
     "metadata": {},
     "output_type": "execute_result"
    }
   ],
   "source": [
    "# Compiling the RNN\n",
    "\n",
    "model.compile(optimizer = 'adam', loss = 'mean_squared_error')\n",
    "\n",
    "# Fitting the RNN to the Training set\n",
    "\n",
    "model.fit(x_train, y_train, epochs = 100, batch_size = 32)"
   ]
  },
  {
   "cell_type": "code",
   "execution_count": 58,
   "id": "99b2f054-20af-4a31-91df-bd0c1b6db60c",
   "metadata": {
    "tags": []
   },
   "outputs": [
    {
     "name": "stderr",
     "output_type": "stream",
     "text": [
      "/opt/app-root/lib64/python3.9/site-packages/yfinance/utils.py:775: FutureWarning: The 'unit' keyword in TimedeltaIndex construction is deprecated and will be removed in a future version. Use pd.to_timedelta instead.\n",
      "  df.index += _pd.TimedeltaIndex(dst_error_hours, 'h')\n",
      "[*********************100%%**********************]  1 of 1 completed"
     ]
    },
    {
     "name": "stdout",
     "output_type": "stream",
     "text": [
      "                  Open        High         Low       Close   Adj Close  \\\n",
      "Date                                                                     \n",
      "2022-01-03  134.070007  136.289993  133.630005  136.039993  122.363747   \n",
      "2022-01-04  136.100006  139.949997  135.899994  138.020004  124.144691   \n",
      "2022-01-05  138.309998  142.199997  137.880005  138.220001  124.324600   \n",
      "2022-01-06  138.199997  138.410004  132.509995  135.339996  121.734108   \n",
      "2022-01-07  134.899994  135.660004  133.509995  134.830002  121.275414   \n",
      "2022-01-10  134.470001  136.199997  133.380005  135.029999  121.455284   \n",
      "2022-01-11  130.520004  133.250000  127.970001  132.869995  119.512421   \n",
      "2022-01-12  133.250000  134.470001  131.369995  133.589996  120.160065   \n",
      "2022-01-13  133.899994  136.050003  133.559998  134.759995  121.212440   \n",
      "2022-01-14  134.550003  135.139999  133.300003  134.210007  120.717720   \n",
      "2022-01-18  132.949997  133.889999  131.779999  132.940002  119.575401   \n",
      "2022-01-19  132.899994  133.899994  131.500000  131.580002  118.352104   \n",
      "2022-01-20  131.259995  132.880005  130.570007  130.820007  117.668533   \n",
      "2022-01-21  131.649994  131.869995  129.270004  129.350006  116.346298   \n",
      "2022-01-24  127.989998  129.149994  124.190002  128.820007  115.869591   \n",
      "2022-01-25  129.139999  137.339996  128.300003  136.100006  122.417732   \n",
      "2022-01-26  136.470001  137.070007  133.130005  134.259995  120.762680   \n",
      "2022-01-27  133.660004  134.750000  132.080002  132.520004  119.197617   \n",
      "2022-01-28  133.190002  134.529999  131.789993  134.500000  120.978561   \n",
      "2022-01-31  134.089996  134.089996  132.300003  133.570007  120.142075   \n",
      "\n",
      "              Volume  \n",
      "Date                  \n",
      "2022-01-03   4605900  \n",
      "2022-01-04   7300000  \n",
      "2022-01-05   8956900  \n",
      "2022-01-06   9908100  \n",
      "2022-01-07   5238100  \n",
      "2022-01-10   5432800  \n",
      "2022-01-11  11105300  \n",
      "2022-01-12   5352000  \n",
      "2022-01-13   4868300  \n",
      "2022-01-14   5310300  \n",
      "2022-01-18   5246700  \n",
      "2022-01-19   4103700  \n",
      "2022-01-20   5278200  \n",
      "2022-01-21   5907000  \n",
      "2022-01-24  13484000  \n",
      "2022-01-25  19715700  \n",
      "2022-01-26   8336000  \n",
      "2022-01-27   5497300  \n",
      "2022-01-28   5471500  \n",
      "2022-01-31   5859000  \n"
     ]
    },
    {
     "name": "stderr",
     "output_type": "stream",
     "text": [
      "\n"
     ]
    }
   ],
   "source": [
    "\n",
    "yfin.pdr_override()\n",
    "\n",
    "dataset_testing = pdr.get_data_yahoo('IBM', start='2022-01-01', end='2022-02-01')\n",
    "\n",
    "print(dataset_testing)"
   ]
  },
  {
   "cell_type": "code",
   "execution_count": 60,
   "id": "6e91f615-0d75-48a3-9c1a-ee0eb616c298",
   "metadata": {
    "tags": []
   },
   "outputs": [],
   "source": [
    "dataset_testing = dataset_testing.reset_index()"
   ]
  },
  {
   "cell_type": "code",
   "execution_count": 65,
   "id": "9945683e-e2a9-4343-8ecb-f50336a061e9",
   "metadata": {
    "tags": []
   },
   "outputs": [
    {
     "data": {
      "text/plain": [
       "array([[134.07000732],\n",
       "       [136.1000061 ],\n",
       "       [138.30999756],\n",
       "       [138.19999695],\n",
       "       [134.8999939 ],\n",
       "       [134.47000122],\n",
       "       [130.52000427],\n",
       "       [133.25      ],\n",
       "       [133.8999939 ],\n",
       "       [134.55000305],\n",
       "       [132.94999695],\n",
       "       [132.8999939 ],\n",
       "       [131.25999451],\n",
       "       [131.6499939 ],\n",
       "       [127.98999786],\n",
       "       [129.13999939],\n",
       "       [136.47000122],\n",
       "       [133.66000366],\n",
       "       [133.19000244],\n",
       "       [134.08999634]])"
      ]
     },
     "execution_count": 65,
     "metadata": {},
     "output_type": "execute_result"
    }
   ],
   "source": [
    "actual_stock_price = dataset_testing[['Open']].values\n",
    "\n",
    "actual_stock_price"
   ]
  },
  {
   "cell_type": "code",
   "execution_count": 74,
   "id": "ed53aa68-d37d-4f70-81e1-cd02bc6ded09",
   "metadata": {
    "tags": []
   },
   "outputs": [
    {
     "name": "stdout",
     "output_type": "stream",
     "text": [
      "1279\n"
     ]
    }
   ],
   "source": [
    "total_data = pd.concat((dataset_training['Open'], \\\n",
    "\n",
    "                        dataset_testing['Open']), axis = 0)\n",
    "\n",
    "print(len(total_data))"
   ]
  },
  {
   "cell_type": "code",
   "execution_count": 79,
   "id": "7d2f9d09-446b-4aaf-8612-14be37c750fc",
   "metadata": {
    "tags": []
   },
   "outputs": [
    {
     "name": "stdout",
     "output_type": "stream",
     "text": [
      "1/1 [==============================] - 0s 22ms/step\n"
     ]
    }
   ],
   "source": [
    "\n",
    "inputs = total_data[len(total_data) \\\n",
    "\n",
    "         - len(dataset_testing) - 60:].values\n",
    "\n",
    "inputs = inputs.reshape(-1,1)\n",
    "\n",
    "inputs = scaler.transform(inputs)\n",
    "\n",
    "x_test = []\n",
    "\n",
    "for i in range(60, 81):\n",
    "\n",
    "    x_test.append(inputs[i-60:i, 0])\n",
    "\n",
    "x_test = np.array(x_test)\n",
    "\n",
    "x_test = np.reshape(x_test, (x_test.shape[0], \\\n",
    "\n",
    "                    x_test.shape[1], 1))\n",
    "\n",
    "predicted_stock_price = model.predict(x_test)\n",
    "\n",
    "predicted_stock_price = scaler.inverse_transform(\\\n",
    "\n",
    "                        predicted_stock_price)"
   ]
  },
  {
   "cell_type": "code",
   "execution_count": 80,
   "id": "f4c61513-8775-4e79-9218-7003540bc166",
   "metadata": {
    "tags": []
   },
   "outputs": [
    {
     "data": {
      "image/png": "[encoded data removed]",
      "text/plain": [
       "<Figure size 640x480 with 1 Axes>"
      ]
     },
     "metadata": {},
     "output_type": "display_data"
    }
   ],
   "source": [
    "# Visualizing the results\n",
    "\n",
    "plt.plot(actual_stock_price, color = 'green', \\\n",
    "\n",
    "         label = 'Real IBM Stock Price',\\\n",
    "\n",
    "         ls='--')\n",
    "\n",
    "plt.plot(predicted_stock_price, color = 'red', \\\n",
    "\n",
    "         label = 'Predicted IBM Stock Price',\\\n",
    "\n",
    "         ls='-')\n",
    "\n",
    "plt.title('Predicted Stock Price')\n",
    "\n",
    "plt.xlabel('Time in days')\n",
    "\n",
    "plt.ylabel('Real Stock Price')\n",
    "\n",
    "plt.legend()\n",
    "\n",
    "plt.show()"
   ]
  },
  {
   "cell_type": "code",
   "execution_count": 69,
   "id": "fc6a9fdb-9f1f-4292-b74a-1b5d098dd3ef",
   "metadata": {
    "tags": []
   },
   "outputs": [],
   "source": [
    "model.save(\"./predict_trend.keras\")"
   ]
  },
  {
   "cell_type": "code",
   "execution_count": 70,
   "id": "6a718045-daad-41ec-809f-92dbed92e563",
   "metadata": {
    "tags": []
   },
   "outputs": [
    {
     "name": "stderr",
     "output_type": "stream",
     "text": [
      "2024-02-19 14:21:10.468782: I tensorflow/core/grappler/devices.cc:66] Number of eligible GPUs (core count >= 8, compute capability >= 0.0): 0\n",
      "2024-02-19 14:21:10.468944: I tensorflow/core/grappler/clusters/single_machine.cc:361] Starting new session\n",
      "2024-02-19 14:21:10.654659: I tensorflow/core/grappler/devices.cc:66] Number of eligible GPUs (core count >= 8, compute capability >= 0.0): 0\n",
      "2024-02-19 14:21:10.654780: I tensorflow/core/grappler/clusters/single_machine.cc:361] Starting new session\n",
      "2024-02-19 14:21:10.797751: I tensorflow/compiler/mlir/mlir_graph_optimization_pass.cc:388] MLIR V1 optimization pass is not enabled\n"
     ]
    }
   ],
   "source": [
    "onnx_model, _ = tf2onnx.convert.from_keras(model)\n",
    "onnx.save(onnx_model, \"./predict_trend.onnx\")"
   ]
  },
  {
   "cell_type": "code",
   "execution_count": null,
   "id": "0e142d29-3072-4669-8de7-5868360aa6fe",
   "metadata": {},
   "outputs": [],
   "source": []
  }
 ],
 "metadata": {
  "kernelspec": {
   "display_name": "Python 3.9",
   "language": "python",
   "name": "python3"
  },
  "language_info": {
   "codemirror_mode": {
    "name": "ipython",
    "version": 3
   },
   "file_extension": ".py",
   "mimetype": "text/x-python",
   "name": "python",
   "nbconvert_exporter": "python",
   "pygments_lexer": "ipython3",
   "version": "3.9.18"
  }
 },
 "nbformat": 4,
 "nbformat_minor": 5
}
