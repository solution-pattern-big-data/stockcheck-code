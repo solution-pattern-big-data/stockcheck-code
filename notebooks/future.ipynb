{
 "cells": [
  {
   "cell_type": "code",
   "execution_count": 55,
   "id": "ae71c6be-3e6f-4d52-b738-11adb5851494",
   "metadata": {
    "tags": []
   },
   "outputs": [
    {
     "name": "stdout",
     "output_type": "stream",
     "text": [
      "Requirement already satisfied: Flask in /opt/app-root/lib/python3.9/site-packages (from -r ../requirements.txt (line 1)) (3.0.2)\n",
      "Requirement already satisfied: gunicorn in /opt/app-root/lib/python3.9/site-packages (from -r ../requirements.txt (line 2)) (21.2.0)\n",
      "Requirement already satisfied: trino in /opt/app-root/lib/python3.9/site-packages (from -r ../requirements.txt (line 3)) (0.328.0)\n",
      "Requirement already satisfied: numpy in /opt/app-root/lib/python3.9/site-packages (from -r ../requirements.txt (line 4)) (1.26.4)\n",
      "Requirement already satisfied: pandas in /opt/app-root/lib/python3.9/site-packages (from -r ../requirements.txt (line 5)) (2.2.1)\n",
      "Requirement already satisfied: matplotlib in /opt/app-root/lib/python3.9/site-packages (from -r ../requirements.txt (line 6)) (3.8.3)\n",
      "Requirement already satisfied: scikit-learn in /opt/app-root/lib/python3.9/site-packages (from -r ../requirements.txt (line 7)) (1.4.1.post1)\n",
      "Requirement already satisfied: tensorflow in /opt/app-root/lib/python3.9/site-packages (from -r ../requirements.txt (line 8)) (2.15.0.post1)\n",
      "Requirement already satisfied: boto3 in /opt/app-root/lib/python3.9/site-packages (from -r ../requirements.txt (line 9)) (1.34.51)\n",
      "Requirement already satisfied: tf2onnx in /opt/app-root/lib/python3.9/site-packages (from -r ../requirements.txt (line 10)) (1.16.1)\n",
      "Requirement already satisfied: onnx in /opt/app-root/lib/python3.9/site-packages (from -r ../requirements.txt (line 11)) (1.15.0)\n",
      "Requirement already satisfied: pandas_datareader==0.10.0 in /opt/app-root/lib/python3.9/site-packages (from -r ../requirements.txt (line 12)) (0.10.0)\n",
      "Requirement already satisfied: yfinance in /opt/app-root/lib/python3.9/site-packages (from -r ../requirements.txt (line 13)) (0.2.37)\n",
      "Requirement already satisfied: requests>=2.19.0 in /opt/app-root/lib/python3.9/site-packages (from pandas_datareader==0.10.0->-r ../requirements.txt (line 12)) (2.31.0)\n",
      "Requirement already satisfied: lxml in /opt/app-root/lib/python3.9/site-packages (from pandas_datareader==0.10.0->-r ../requirements.txt (line 12)) (5.1.0)\n",
      "Requirement already satisfied: click>=8.1.3 in /opt/app-root/lib/python3.9/site-packages (from Flask->-r ../requirements.txt (line 1)) (8.1.7)\n",
      "Requirement already satisfied: importlib-metadata>=3.6.0 in /opt/app-root/lib/python3.9/site-packages (from Flask->-r ../requirements.txt (line 1)) (6.8.0)\n",
      "Requirement already satisfied: blinker>=1.6.2 in /opt/app-root/lib/python3.9/site-packages (from Flask->-r ../requirements.txt (line 1)) (1.7.0)\n",
      "Requirement already satisfied: Jinja2>=3.1.2 in /opt/app-root/lib/python3.9/site-packages (from Flask->-r ../requirements.txt (line 1)) (3.1.2)\n",
      "Requirement already satisfied: itsdangerous>=2.1.2 in /opt/app-root/lib/python3.9/site-packages (from Flask->-r ../requirements.txt (line 1)) (2.1.2)\n",
      "Requirement already satisfied: Werkzeug>=3.0.0 in /opt/app-root/lib/python3.9/site-packages (from Flask->-r ../requirements.txt (line 1)) (3.0.1)\n",
      "Requirement already satisfied: packaging in /opt/app-root/lib/python3.9/site-packages (from gunicorn->-r ../requirements.txt (line 2)) (23.2)\n",
      "Requirement already satisfied: pytz in /opt/app-root/lib/python3.9/site-packages (from trino->-r ../requirements.txt (line 3)) (2024.1)\n",
      "Requirement already satisfied: python-dateutil in /opt/app-root/lib/python3.9/site-packages (from trino->-r ../requirements.txt (line 3)) (2.8.2)\n",
      "Requirement already satisfied: tzlocal in /opt/app-root/lib/python3.9/site-packages (from trino->-r ../requirements.txt (line 3)) (5.2)\n",
      "Requirement already satisfied: tzdata>=2022.7 in /opt/app-root/lib/python3.9/site-packages (from pandas->-r ../requirements.txt (line 5)) (2024.1)\n",
      "Requirement already satisfied: fonttools>=4.22.0 in /opt/app-root/lib/python3.9/site-packages (from matplotlib->-r ../requirements.txt (line 6)) (4.49.0)\n",
      "Requirement already satisfied: importlib-resources>=3.2.0 in /opt/app-root/lib/python3.9/site-packages (from matplotlib->-r ../requirements.txt (line 6)) (6.1.2)\n",
      "Requirement already satisfied: kiwisolver>=1.3.1 in /opt/app-root/lib/python3.9/site-packages (from matplotlib->-r ../requirements.txt (line 6)) (1.4.5)\n",
      "Requirement already satisfied: cycler>=0.10 in /opt/app-root/lib/python3.9/site-packages (from matplotlib->-r ../requirements.txt (line 6)) (0.12.1)\n",
      "Requirement already satisfied: pyparsing>=2.3.1 in /opt/app-root/lib/python3.9/site-packages (from matplotlib->-r ../requirements.txt (line 6)) (3.1.1)\n",
      "Requirement already satisfied: pillow>=8 in /opt/app-root/lib/python3.9/site-packages (from matplotlib->-r ../requirements.txt (line 6)) (10.2.0)\n",
      "Requirement already satisfied: contourpy>=1.0.1 in /opt/app-root/lib/python3.9/site-packages (from matplotlib->-r ../requirements.txt (line 6)) (1.2.0)\n",
      "Requirement already satisfied: threadpoolctl>=2.0.0 in /opt/app-root/lib/python3.9/site-packages (from scikit-learn->-r ../requirements.txt (line 7)) (3.3.0)\n",
      "Requirement already satisfied: scipy>=1.6.0 in /opt/app-root/lib/python3.9/site-packages (from scikit-learn->-r ../requirements.txt (line 7)) (1.12.0)\n",
      "Requirement already satisfied: joblib>=1.2.0 in /opt/app-root/lib/python3.9/site-packages (from scikit-learn->-r ../requirements.txt (line 7)) (1.3.2)\n",
      "Requirement already satisfied: keras<2.16,>=2.15.0 in /opt/app-root/lib/python3.9/site-packages (from tensorflow->-r ../requirements.txt (line 8)) (2.15.0)\n",
      "Requirement already satisfied: opt-einsum>=2.3.2 in /opt/app-root/lib/python3.9/site-packages (from tensorflow->-r ../requirements.txt (line 8)) (3.3.0)\n",
      "Requirement already satisfied: six>=1.12.0 in /opt/app-root/lib/python3.9/site-packages (from tensorflow->-r ../requirements.txt (line 8)) (1.16.0)\n",
      "Requirement already satisfied: protobuf!=4.21.0,!=4.21.1,!=4.21.2,!=4.21.3,!=4.21.4,!=4.21.5,<5.0.0dev,>=3.20.3 in /opt/app-root/lib/python3.9/site-packages (from tensorflow->-r ../requirements.txt (line 8)) (3.20.3)\n",
      "Requirement already satisfied: typing-extensions>=3.6.6 in /opt/app-root/lib/python3.9/site-packages (from tensorflow->-r ../requirements.txt (line 8)) (4.8.0)\n",
      "Requirement already satisfied: tensorflow-estimator<2.16,>=2.15.0 in /opt/app-root/lib/python3.9/site-packages (from tensorflow->-r ../requirements.txt (line 8)) (2.15.0)\n",
      "Requirement already satisfied: grpcio<2.0,>=1.24.3 in /opt/app-root/lib/python3.9/site-packages (from tensorflow->-r ../requirements.txt (line 8)) (1.62.0)\n",
      "Requirement already satisfied: libclang>=13.0.0 in /opt/app-root/lib/python3.9/site-packages (from tensorflow->-r ../requirements.txt (line 8)) (16.0.6)\n",
      "Requirement already satisfied: google-pasta>=0.1.1 in /opt/app-root/lib/python3.9/site-packages (from tensorflow->-r ../requirements.txt (line 8)) (0.2.0)\n",
      "Requirement already satisfied: ml-dtypes~=0.2.0 in /opt/app-root/lib/python3.9/site-packages (from tensorflow->-r ../requirements.txt (line 8)) (0.2.0)\n",
      "Requirement already satisfied: flatbuffers>=23.5.26 in /opt/app-root/lib/python3.9/site-packages (from tensorflow->-r ../requirements.txt (line 8)) (23.5.26)\n",
      "Requirement already satisfied: absl-py>=1.0.0 in /opt/app-root/lib/python3.9/site-packages (from tensorflow->-r ../requirements.txt (line 8)) (2.1.0)\n",
      "Requirement already satisfied: tensorflow-io-gcs-filesystem>=0.23.1 in /opt/app-root/lib/python3.9/site-packages (from tensorflow->-r ../requirements.txt (line 8)) (0.36.0)\n",
      "Requirement already satisfied: gast!=0.5.0,!=0.5.1,!=0.5.2,>=0.2.1 in /opt/app-root/lib/python3.9/site-packages (from tensorflow->-r ../requirements.txt (line 8)) (0.5.4)\n",
      "Requirement already satisfied: setuptools in /opt/app-root/lib/python3.9/site-packages (from tensorflow->-r ../requirements.txt (line 8)) (53.0.0)\n",
      "Requirement already satisfied: tensorboard<2.16,>=2.15 in /opt/app-root/lib/python3.9/site-packages (from tensorflow->-r ../requirements.txt (line 8)) (2.15.2)\n",
      "Requirement already satisfied: astunparse>=1.6.0 in /opt/app-root/lib/python3.9/site-packages (from tensorflow->-r ../requirements.txt (line 8)) (1.6.3)\n",
      "Requirement already satisfied: wrapt<1.15,>=1.11.0 in /opt/app-root/lib/python3.9/site-packages (from tensorflow->-r ../requirements.txt (line 8)) (1.14.1)\n",
      "Requirement already satisfied: h5py>=2.9.0 in /opt/app-root/lib/python3.9/site-packages (from tensorflow->-r ../requirements.txt (line 8)) (3.10.0)\n",
      "Requirement already satisfied: termcolor>=1.1.0 in /opt/app-root/lib/python3.9/site-packages (from tensorflow->-r ../requirements.txt (line 8)) (2.4.0)\n",
      "Requirement already satisfied: botocore<1.35.0,>=1.34.51 in /opt/app-root/lib/python3.9/site-packages (from boto3->-r ../requirements.txt (line 9)) (1.34.51)\n",
      "Requirement already satisfied: jmespath<2.0.0,>=0.7.1 in /opt/app-root/lib/python3.9/site-packages (from boto3->-r ../requirements.txt (line 9)) (1.0.1)\n",
      "Requirement already satisfied: s3transfer<0.11.0,>=0.10.0 in /opt/app-root/lib/python3.9/site-packages (from boto3->-r ../requirements.txt (line 9)) (0.10.0)\n",
      "Requirement already satisfied: frozendict>=2.3.4 in /opt/app-root/lib/python3.9/site-packages (from yfinance->-r ../requirements.txt (line 13)) (2.4.0)\n",
      "Requirement already satisfied: html5lib>=1.1 in /opt/app-root/lib/python3.9/site-packages (from yfinance->-r ../requirements.txt (line 13)) (1.1)\n",
      "Requirement already satisfied: beautifulsoup4>=4.11.1 in /opt/app-root/lib/python3.9/site-packages (from yfinance->-r ../requirements.txt (line 13)) (4.12.2)\n",
      "Requirement already satisfied: multitasking>=0.0.7 in /opt/app-root/lib/python3.9/site-packages (from yfinance->-r ../requirements.txt (line 13)) (0.0.11)\n",
      "Requirement already satisfied: appdirs>=1.4.4 in /opt/app-root/lib/python3.9/site-packages (from yfinance->-r ../requirements.txt (line 13)) (1.4.4)\n",
      "Requirement already satisfied: peewee>=3.16.2 in /opt/app-root/lib/python3.9/site-packages (from yfinance->-r ../requirements.txt (line 13)) (3.17.1)\n",
      "Requirement already satisfied: wheel<1.0,>=0.23.0 in /opt/app-root/lib/python3.9/site-packages (from astunparse>=1.6.0->tensorflow->-r ../requirements.txt (line 8)) (0.38.4)\n",
      "Requirement already satisfied: soupsieve>1.2 in /opt/app-root/lib/python3.9/site-packages (from beautifulsoup4>=4.11.1->yfinance->-r ../requirements.txt (line 13)) (2.5)\n",
      "Requirement already satisfied: urllib3<1.27,>=1.25.4 in /opt/app-root/lib/python3.9/site-packages (from botocore<1.35.0,>=1.34.51->boto3->-r ../requirements.txt (line 9)) (1.26.18)\n",
      "Requirement already satisfied: webencodings in /opt/app-root/lib/python3.9/site-packages (from html5lib>=1.1->yfinance->-r ../requirements.txt (line 13)) (0.5.1)\n",
      "Requirement already satisfied: zipp>=0.5 in /opt/app-root/lib/python3.9/site-packages (from importlib-metadata>=3.6.0->Flask->-r ../requirements.txt (line 1)) (3.17.0)\n",
      "Requirement already satisfied: MarkupSafe>=2.0 in /opt/app-root/lib/python3.9/site-packages (from Jinja2>=3.1.2->Flask->-r ../requirements.txt (line 1)) (2.1.3)\n",
      "Requirement already satisfied: idna<4,>=2.5 in /opt/app-root/lib/python3.9/site-packages (from requests>=2.19.0->pandas_datareader==0.10.0->-r ../requirements.txt (line 12)) (3.4)\n",
      "Requirement already satisfied: charset-normalizer<4,>=2 in /opt/app-root/lib/python3.9/site-packages (from requests>=2.19.0->pandas_datareader==0.10.0->-r ../requirements.txt (line 12)) (3.3.2)\n",
      "Requirement already satisfied: certifi>=2017.4.17 in /opt/app-root/lib/python3.9/site-packages (from requests>=2.19.0->pandas_datareader==0.10.0->-r ../requirements.txt (line 12)) (2023.7.22)\n",
      "Requirement already satisfied: google-auth-oauthlib<2,>=0.5 in /opt/app-root/lib/python3.9/site-packages (from tensorboard<2.16,>=2.15->tensorflow->-r ../requirements.txt (line 8)) (1.2.0)\n",
      "Requirement already satisfied: tensorboard-data-server<0.8.0,>=0.7.0 in /opt/app-root/lib/python3.9/site-packages (from tensorboard<2.16,>=2.15->tensorflow->-r ../requirements.txt (line 8)) (0.7.2)\n",
      "Requirement already satisfied: google-auth<3,>=1.6.3 in /opt/app-root/lib/python3.9/site-packages (from tensorboard<2.16,>=2.15->tensorflow->-r ../requirements.txt (line 8)) (2.28.1)\n",
      "Requirement already satisfied: markdown>=2.6.8 in /opt/app-root/lib/python3.9/site-packages (from tensorboard<2.16,>=2.15->tensorflow->-r ../requirements.txt (line 8)) (3.5.2)\n",
      "Requirement already satisfied: pyasn1-modules>=0.2.1 in /opt/app-root/lib/python3.9/site-packages (from google-auth<3,>=1.6.3->tensorboard<2.16,>=2.15->tensorflow->-r ../requirements.txt (line 8)) (0.3.0)\n",
      "Requirement already satisfied: cachetools<6.0,>=2.0.0 in /opt/app-root/lib/python3.9/site-packages (from google-auth<3,>=1.6.3->tensorboard<2.16,>=2.15->tensorflow->-r ../requirements.txt (line 8)) (5.3.3)\n",
      "Requirement already satisfied: rsa<5,>=3.1.4 in /opt/app-root/lib/python3.9/site-packages (from google-auth<3,>=1.6.3->tensorboard<2.16,>=2.15->tensorflow->-r ../requirements.txt (line 8)) (4.9)\n",
      "Requirement already satisfied: requests-oauthlib>=0.7.0 in /opt/app-root/lib/python3.9/site-packages (from google-auth-oauthlib<2,>=0.5->tensorboard<2.16,>=2.15->tensorflow->-r ../requirements.txt (line 8)) (1.3.1)\n",
      "Requirement already satisfied: pyasn1<0.6.0,>=0.4.6 in /opt/app-root/lib/python3.9/site-packages (from pyasn1-modules>=0.2.1->google-auth<3,>=1.6.3->tensorboard<2.16,>=2.15->tensorflow->-r ../requirements.txt (line 8)) (0.5.1)\n",
      "Requirement already satisfied: oauthlib>=3.0.0 in /opt/app-root/lib/python3.9/site-packages (from requests-oauthlib>=0.7.0->google-auth-oauthlib<2,>=0.5->tensorboard<2.16,>=2.15->tensorflow->-r ../requirements.txt (line 8)) (3.2.2)\n",
      "\n",
      "\u001b[1m[\u001b[0m\u001b[34;49mnotice\u001b[0m\u001b[1;39;49m]\u001b[0m\u001b[39;49m A new release of pip available: \u001b[0m\u001b[31;49m22.2.2\u001b[0m\u001b[39;49m -> \u001b[0m\u001b[32;49m24.0\u001b[0m\n",
      "\u001b[1m[\u001b[0m\u001b[34;49mnotice\u001b[0m\u001b[1;39;49m]\u001b[0m\u001b[39;49m To update, run: \u001b[0m\u001b[32;49mpip install --upgrade pip\u001b[0m\n"
     ]
    }
   ],
   "source": [
    "import sys\n",
    "!{sys.executable} -m pip install -r ../requirements.txt"
   ]
  },
  {
   "cell_type": "code",
   "execution_count": 70,
   "id": "6bba03a1-1678-45c9-aa32-28c6a63f9bc1",
   "metadata": {
    "tags": []
   },
   "outputs": [],
   "source": [
    "import boto3\n",
    "import matplotlib.pyplot as plt\n",
    "import pandas as pd\n",
    "from pandas_datareader import data as pdr\n",
    "import numpy as np\n",
    "from sklearn.preprocessing import MinMaxScaler\n",
    "from tensorflow import keras\n",
    "import tf2onnx\n",
    "import onnx\n",
    "import yfinance as yfin\n",
    "import time\n",
    "from keras.models import Sequential\n",
    "from keras.layers import Dense, LSTM, Dropout"
   ]
  },
  {
   "cell_type": "code",
   "execution_count": 85,
   "id": "6c98db3a-f0cd-44d7-ab56-e1470e65ffe9",
   "metadata": {
    "tags": []
   },
   "outputs": [
    {
     "name": "stderr",
     "output_type": "stream",
     "text": [
      "[*********************100%%**********************]  1 of 1 completed\n",
      "/tmp/ipykernel_127/3481568464.py:2: FutureWarning: Series.fillna with 'method' is deprecated and will raise in a future version. Use obj.ffill() or obj.bfill() instead.\n",
      "  dataset = df['Close'].fillna(method='ffill')\n"
     ]
    }
   ],
   "source": [
    "df = yfin.download(tickers=['IBM'], period='6mo')\n",
    "dataset = df['Close'].fillna(method='ffill')\n",
    "dataset = dataset.values.reshape(-1, 1)"
   ]
  },
  {
   "cell_type": "code",
   "execution_count": 86,
   "id": "36bb0ef6-fc92-44fc-9a18-b73a73220a19",
   "metadata": {
    "tags": []
   },
   "outputs": [
    {
     "data": {
      "text/plain": [
       "(127, 1)"
      ]
     },
     "execution_count": 86,
     "metadata": {},
     "output_type": "execute_result"
    }
   ],
   "source": [
    "dataset.shape"
   ]
  },
  {
   "cell_type": "code",
   "execution_count": 87,
   "id": "532b3b60-c96f-445c-ad1d-8251689d446a",
   "metadata": {
    "tags": []
   },
   "outputs": [],
   "source": [
    "scaler = MinMaxScaler(feature_range=(0, 1))\n",
    "scaler = scaler.fit(dataset)\n",
    "dataset = scaler.transform(dataset)"
   ]
  },
  {
   "cell_type": "code",
   "execution_count": 88,
   "id": "b6cec4d2-0325-49e4-834a-006a9fdfb682",
   "metadata": {},
   "outputs": [],
   "source": [
    "# generate the input and output sequences\n",
    "n_lookback = 60  # length of input sequences (lookback period)\n",
    "n_forecast = 30  # length of output sequences (forecast period)\n",
    "\n",
    "X = []\n",
    "Y = []\n",
    "\n",
    "for i in range(n_lookback, len(dataset) - n_forecast + 1):\n",
    "    X.append(dataset[i - n_lookback: i])\n",
    "    Y.append(dataset[i: i + n_forecast])"
   ]
  },
  {
   "cell_type": "code",
   "execution_count": 89,
   "id": "b07cf8c4-635f-40f0-9fab-c1c99c4f2607",
   "metadata": {},
   "outputs": [],
   "source": [
    "X = np.array(X)\n",
    "Y = np.array(Y)\n"
   ]
  },
  {
   "cell_type": "code",
   "execution_count": 90,
   "id": "af10773a-a5a5-4655-8ce1-56b18ddae8d4",
   "metadata": {
    "tags": []
   },
   "outputs": [],
   "source": [
    "# fit the model\n",
    "model = Sequential()\n",
    "model.add(LSTM(units=50, return_sequences=True, input_shape=(n_lookback, 1)))\n",
    "model.add(LSTM(units=50))\n",
    "model.add(Dense(n_forecast))"
   ]
  },
  {
   "cell_type": "code",
   "execution_count": 91,
   "id": "02c298c9-207b-4d03-9975-04bebd4ff587",
   "metadata": {
    "tags": []
   },
   "outputs": [
    {
     "data": {
      "text/plain": [
       "<keras.src.callbacks.History at 0x7fa222f7b550>"
      ]
     },
     "execution_count": 91,
     "metadata": {},
     "output_type": "execute_result"
    }
   ],
   "source": [
    "\n",
    "model.compile(loss='mean_squared_error', optimizer='adam')\n",
    "model.fit(X, Y, epochs=100, batch_size=32, verbose=0)"
   ]
  },
  {
   "cell_type": "code",
   "execution_count": 92,
   "id": "d097b6cf-cf93-4668-b490-c8efe53e5a8c",
   "metadata": {
    "tags": []
   },
   "outputs": [
    {
     "name": "stdout",
     "output_type": "stream",
     "text": [
      "WARNING:tensorflow:5 out of the last 5 calls to <function Model.make_predict_function.<locals>.predict_function at 0x7fa222d9c3a0> triggered tf.function retracing. Tracing is expensive and the excessive number of tracings could be due to (1) creating @tf.function repeatedly in a loop, (2) passing tensors with different shapes, (3) passing Python objects instead of tensors. For (1), please define your @tf.function outside of the loop. For (2), @tf.function has reduce_retracing=True option that can avoid unnecessary retracing. For (3), please refer to https://www.tensorflow.org/guide/function#controlling_retracing and https://www.tensorflow.org/api_docs/python/tf/function for  more details.\n",
      "1/1 [==============================] - 0s 424ms/step\n"
     ]
    }
   ],
   "source": [
    "# generate the forecasts\n",
    "X_ = y[- n_lookback:]  # last available input sequence\n",
    "X_ = X_.reshape(1, n_lookback, 1)\n",
    "\n",
    "Y_ = model.predict(X_).reshape(-1, 1)\n",
    "Y_ = scaler.inverse_transform(Y_)"
   ]
  },
  {
   "cell_type": "code",
   "execution_count": 93,
   "id": "fd5bf01f-1b37-4777-b153-a3ab6400de5b",
   "metadata": {
    "tags": []
   },
   "outputs": [
    {
     "name": "stderr",
     "output_type": "stream",
     "text": [
      "/tmp/ipykernel_127/3704570742.py:6: FutureWarning: ChainedAssignmentError: behaviour will change in pandas 3.0!\n",
      "You are setting values through chained assignment. Currently this works in certain cases, but when using Copy-on-Write (which will become the default behaviour in pandas 3.0) this will never work to update the original DataFrame or Series, because the intermediate object on which we are setting values will behave as a copy.\n",
      "A typical example is when you are setting values in a column of a DataFrame, like:\n",
      "\n",
      "df[\"col\"][row_indexer] = value\n",
      "\n",
      "Use `df.loc[row_indexer, \"col\"] = values` instead, to perform the assignment in a single step and ensure this keeps updating the original `df`.\n",
      "\n",
      "See the caveats in the documentation: https://pandas.pydata.org/pandas-docs/stable/user_guide/indexing.html#returning-a-view-versus-a-copy\n",
      "\n",
      "  df_past['Forecast'].iloc[-1] = df_past['Actual'].iloc[-1]\n",
      "/tmp/ipykernel_127/3704570742.py:6: SettingWithCopyWarning: \n",
      "A value is trying to be set on a copy of a slice from a DataFrame\n",
      "\n",
      "See the caveats in the documentation: https://pandas.pydata.org/pandas-docs/stable/user_guide/indexing.html#returning-a-view-versus-a-copy\n",
      "  df_past['Forecast'].iloc[-1] = df_past['Actual'].iloc[-1]\n"
     ]
    }
   ],
   "source": [
    "# organize the results in a data frame\n",
    "df_past = df[['Close']].reset_index()\n",
    "df_past.rename(columns={'index': 'Date', 'Close': 'Actual'}, inplace=True)\n",
    "df_past['Date'] = pd.to_datetime(df_past['Date'])\n",
    "df_past['Forecast'] = np.nan\n",
    "df_past['Forecast'].iloc[-1] = df_past['Actual'].iloc[-1]"
   ]
  },
  {
   "cell_type": "code",
   "execution_count": 94,
   "id": "ade67596-303b-4062-8da4-769b2c344439",
   "metadata": {
    "tags": []
   },
   "outputs": [],
   "source": [
    "\n",
    "df_future = pd.DataFrame(columns=['Date', 'Actual', 'Forecast'])\n",
    "df_future['Date'] = pd.date_range(start=df_past['Date'].iloc[-1] + pd.Timedelta(days=1), periods=n_forecast)\n",
    "df_future['Forecast'] = Y_.flatten()\n",
    "df_future['Actual'] = np.nan"
   ]
  },
  {
   "cell_type": "code",
   "execution_count": 95,
   "id": "b0ef9eca-a3ed-45cd-9809-882ab560dc65",
   "metadata": {
    "tags": []
   },
   "outputs": [
    {
     "data": {
      "text/plain": [
       "<Axes: title={'center': 'IBM'}, xlabel='Date'>"
      ]
     },
     "execution_count": 95,
     "metadata": {},
     "output_type": "execute_result"
    },
    {
     "data": {
      "image/png": "[encoded data removed]",
      "text/plain": [
       "<Figure size 640x480 with 1 Axes>"
      ]
     },
     "metadata": {},
     "output_type": "display_data"
    }
   ],
   "source": [
    "results = pd.concat([df_past, df_future])\n",
    "results = results.set_index('Date')\n",
    "\n",
    "# plot the results\n",
    "results.plot(title='IBM')\n"
   ]
  },
  {
   "cell_type": "code",
   "execution_count": 96,
   "id": "fc6a9fdb-9f1f-4292-b74a-1b5d098dd3ef",
   "metadata": {
    "tags": []
   },
   "outputs": [],
   "source": [
    "model.save(\"./future_trend.keras\")"
   ]
  },
  {
   "cell_type": "code",
   "execution_count": 97,
   "id": "6a718045-daad-41ec-809f-92dbed92e563",
   "metadata": {
    "tags": []
   },
   "outputs": [
    {
     "name": "stderr",
     "output_type": "stream",
     "text": [
      "2024-02-28 15:50:20.431847: I tensorflow/core/grappler/devices.cc:66] Number of eligible GPUs (core count >= 8, compute capability >= 0.0): 0\n",
      "2024-02-28 15:50:20.431986: I tensorflow/core/grappler/clusters/single_machine.cc:361] Starting new session\n",
      "2024-02-28 15:50:20.532349: I tensorflow/core/grappler/devices.cc:66] Number of eligible GPUs (core count >= 8, compute capability >= 0.0): 0\n",
      "2024-02-28 15:50:20.532458: I tensorflow/core/grappler/clusters/single_machine.cc:361] Starting new session\n"
     ]
    }
   ],
   "source": [
    "onnx_model, _ = tf2onnx.convert.from_keras(model)\n",
    "onnx.save(onnx_model, \"./future_trend.onnx\")"
   ]
  },
  {
   "cell_type": "code",
   "execution_count": null,
   "id": "0e142d29-3072-4669-8de7-5868360aa6fe",
   "metadata": {},
   "outputs": [],
   "source": []
  }
 ],
 "metadata": {
  "kernelspec": {
   "display_name": "Python 3.9",
   "language": "python",
   "name": "python3"
  },
  "language_info": {
   "codemirror_mode": {
    "name": "ipython",
    "version": 3
   },
   "file_extension": ".py",
   "mimetype": "text/x-python",
   "name": "python",
   "nbconvert_exporter": "python",
   "pygments_lexer": "ipython3",
   "version": "3.9.18"
  }
 },
 "nbformat": 4,
 "nbformat_minor": 5
}
